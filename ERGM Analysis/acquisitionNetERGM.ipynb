{
  "cells": [
    {
      "cell_type": "code",
      "execution_count": null,
      "metadata": {
        "id": "HXfuSoWXZ1Kb"
      },
      "outputs": [],
      "source": [
        "import rpy2.rinterface\n",
        "%load_ext rpy2.ipython"
      ]
    },
    {
      "cell_type": "markdown",
      "source": [
        "# Install & Import Libraries"
      ],
      "metadata": {
        "id": "akVrWfTJDjie"
      }
    },
    {
      "cell_type": "code",
      "execution_count": null,
      "metadata": {
        "id": "SZBPle4ZZ_IY"
      },
      "outputs": [],
      "source": [
        "%%R\n",
        "install.packages(\"igraph\")\n",
        "install.packages(\"ergm\")\n",
        "install.packages(\"intergraph\")"
      ]
    },
    {
      "cell_type": "code",
      "source": [
        "%%R\n",
        "library(igraph)\n",
        "library(magrittr)\n",
        "library(dplyr)\n",
        "library(ergm)\n",
        "library(intergraph)"
      ],
      "metadata": {
        "id": "YBYCUMRlDXRU"
      },
      "execution_count": null,
      "outputs": []
    },
    {
      "cell_type": "markdown",
      "source": [
        "# Import Network"
      ],
      "metadata": {
        "id": "MHBKw2nUDeTW"
      }
    },
    {
      "cell_type": "code",
      "execution_count": null,
      "metadata": {
        "id": "8Dr5EKTJaeUK"
      },
      "outputs": [],
      "source": [
        "!cp \"/content/drive/MyDrive/Startup Project/Acquisition Network/acquisitionNet.graphml\" ."
      ]
    },
    {
      "cell_type": "code",
      "execution_count": null,
      "metadata": {
        "id": "oqGUZ7PwP_n8"
      },
      "outputs": [],
      "source": [
        "%%R\n",
        "graph <- read.graph(\"acquisitionNet.graphml\", format = \"graphml\")\n",
        "ergmNetwork <- intergraph::asNetwork(graph)"
      ]
    },
    {
      "cell_type": "markdown",
      "source": [
        "# Fit the Model"
      ],
      "metadata": {
        "id": "hFqv0YLtDayR"
      }
    },
    {
      "cell_type": "code",
      "execution_count": null,
      "metadata": {
        "colab": {
          "base_uri": "https://localhost:8080/"
        },
        "id": "TiCsNnU9axXw",
        "outputId": "2933a7a4-0850-4556-eb40-b3376d95017e"
      },
      "outputs": [
        {
          "output_type": "stream",
          "name": "stderr",
          "text": [
            "WARNING:rpy2.rinterface_lib.callbacks:R[write to console]: Starting maximum pseudolikelihood estimation (MPLE):\n",
            "\n",
            "WARNING:rpy2.rinterface_lib.callbacks:R[write to console]: Obtaining the responsible dyads.\n",
            "\n",
            "WARNING:rpy2.rinterface_lib.callbacks:R[write to console]: Evaluating the predictor and response matrix.\n",
            "\n",
            "WARNING:rpy2.rinterface_lib.callbacks:R[write to console]: Maximizing the pseudolikelihood.\n",
            "\n",
            "WARNING:rpy2.rinterface_lib.callbacks:R[write to console]: Finished MPLE.\n",
            "\n",
            "WARNING:rpy2.rinterface_lib.callbacks:R[write to console]: Evaluating log-likelihood at the estimate. \n",
            "WARNING:rpy2.rinterface_lib.callbacks:R[write to console]: \n",
            "\n"
          ]
        },
        {
          "output_type": "stream",
          "name": "stdout",
          "text": [
            "Call:\n",
            "ergm(formula = ergmNetwork ~ edges + nodecov(\"founded_year_month\") + \n",
            "    nodematch(\"country_code\") + nodematch(\"region\") + nodematch(\"city\") + \n",
            "    nodematch(\"primary_category\") + nodematch(\"primary_category_group\"))\n",
            "\n",
            "Maximum Likelihood Results:\n",
            "\n",
            "                                   Estimate Std. Error MCMC % z value Pr(>|z|)\n",
            "edges                             8.135e+00  2.005e-01      0   40.57   <1e-04\n",
            "nodecov.founded_year_month       -5.298e-05  5.048e-07      0 -104.95   <1e-04\n",
            "nodematch.country_code            1.161e+00  7.342e-03      0  158.15   <1e-04\n",
            "nodematch.region                  1.117e+00  1.169e-02      0   95.57   <1e-04\n",
            "nodematch.city                    1.373e+00  1.505e-02      0   91.20   <1e-04\n",
            "nodematch.primary_category        1.351e+00  1.104e-02      0  122.36   <1e-04\n",
            "nodematch.primary_category_group  1.794e+00  9.213e-03      0  194.74   <1e-04\n",
            "                                    \n",
            "edges                            ***\n",
            "nodecov.founded_year_month       ***\n",
            "nodematch.country_code           ***\n",
            "nodematch.region                 ***\n",
            "nodematch.city                   ***\n",
            "nodematch.primary_category       ***\n",
            "nodematch.primary_category_group ***\n",
            "---\n",
            "Signif. codes:  0 ‘***’ 0.001 ‘**’ 0.01 ‘*’ 0.05 ‘.’ 0.1 ‘ ’ 1\n",
            "\n",
            "     Null Deviance: 1.972e+10  on 1.422e+10  degrees of freedom\n",
            " Residual Deviance: 2.227e+06  on 1.422e+10  degrees of freedom\n",
            " \n",
            "AIC: 2226707  BIC: 2226857  (Smaller is better. MC Std. Err. = 0)\n"
          ]
        }
      ],
      "source": [
        "%%R\n",
        "fit <- ergm(ergmNetwork ~ edges +\n",
        "            nodecov('founded_year_month') +\n",
        "            nodematch('country_code') + nodematch('region') + nodematch('city') + nodematch('primary_category') + nodematch('primary_category_group')\n",
        "            )\n",
        "summary(fit)"
      ]
    }
  ],
  "metadata": {
    "colab": {
      "provenance": []
    },
    "kernelspec": {
      "display_name": "Python 3",
      "name": "python3"
    },
    "language_info": {
      "name": "python"
    }
  },
  "nbformat": 4,
  "nbformat_minor": 0
}