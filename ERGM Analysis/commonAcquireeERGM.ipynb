{
  "cells": [
    {
      "cell_type": "code",
      "execution_count": null,
      "metadata": {
        "id": "HXfuSoWXZ1Kb"
      },
      "outputs": [],
      "source": [
        "import rpy2.rinterface\n",
        "%load_ext rpy2.ipython"
      ]
    },
    {
      "cell_type": "markdown",
      "source": [
        "# Install & Import Libraries"
      ],
      "metadata": {
        "id": "akVrWfTJDjie"
      }
    },
    {
      "cell_type": "code",
      "execution_count": null,
      "metadata": {
        "id": "SZBPle4ZZ_IY"
      },
      "outputs": [],
      "source": [
        "%%R\n",
        "install.packages(\"igraph\")\n",
        "install.packages(\"ergm\")\n",
        "install.packages(\"intergraph\")"
      ]
    },
    {
      "cell_type": "code",
      "source": [
        "%%R\n",
        "library(igraph)\n",
        "library(magrittr)\n",
        "library(dplyr)\n",
        "library(ergm)\n",
        "library(intergraph)"
      ],
      "metadata": {
        "id": "bAlYa1JJGSdm"
      },
      "execution_count": null,
      "outputs": []
    },
    {
      "cell_type": "markdown",
      "source": [
        "# Import Network"
      ],
      "metadata": {
        "id": "MHBKw2nUDeTW"
      }
    },
    {
      "cell_type": "code",
      "execution_count": null,
      "metadata": {
        "id": "8Dr5EKTJaeUK"
      },
      "outputs": [],
      "source": [
        "!cp \"/content/drive/MyDrive/Startup Project/Acquisition Network/commonAcquiree.graphml\" ."
      ]
    },
    {
      "cell_type": "code",
      "source": [
        "%%R\n",
        "graph <- read.graph(\"commonAcquiree.graphml\", format = \"graphml\")\n",
        "ergmNetwork <- intergraph::asNetwork(graph)"
      ],
      "metadata": {
        "id": "oqGUZ7PwP_n8"
      },
      "execution_count": null,
      "outputs": []
    },
    {
      "cell_type": "markdown",
      "source": [
        "# Fit the Model"
      ],
      "metadata": {
        "id": "hFqv0YLtDayR"
      }
    },
    {
      "cell_type": "code",
      "execution_count": null,
      "metadata": {
        "colab": {
          "base_uri": "https://localhost:8080/"
        },
        "id": "TiCsNnU9axXw",
        "outputId": "a184e12e-7499-4c93-b4e2-1961ac207119"
      },
      "outputs": [
        {
          "output_type": "stream",
          "name": "stderr",
          "text": [
            "WARNING:rpy2.rinterface_lib.callbacks:R[write to console]: Starting maximum pseudolikelihood estimation (MPLE):\n",
            "\n",
            "WARNING:rpy2.rinterface_lib.callbacks:R[write to console]: Obtaining the responsible dyads.\n",
            "\n",
            "WARNING:rpy2.rinterface_lib.callbacks:R[write to console]: Evaluating the predictor and response matrix.\n",
            "\n",
            "WARNING:rpy2.rinterface_lib.callbacks:R[write to console]: Maximizing the pseudolikelihood.\n",
            "\n",
            "WARNING:rpy2.rinterface_lib.callbacks:R[write to console]: Finished MPLE.\n",
            "\n",
            "WARNING:rpy2.rinterface_lib.callbacks:R[write to console]: Evaluating log-likelihood at the estimate. \n",
            "WARNING:rpy2.rinterface_lib.callbacks:R[write to console]: \n",
            "\n"
          ]
        },
        {
          "output_type": "stream",
          "name": "stdout",
          "text": [
            "Call:\n",
            "ergm(formula = ergmNetwork ~ edges + nodecov(\"founded_year_month\") + \n",
            "    nodematch(\"country_code\") + nodematch(\"region\") + nodematch(\"city\") + \n",
            "    nodematch(\"primary_category\") + nodematch(\"primary_category_group\"))\n",
            "\n",
            "Maximum Likelihood Results:\n",
            "\n",
            "                                   Estimate Std. Error MCMC % z value Pr(>|z|)\n",
            "edges                            -4.634e+00  1.115e+00      0  -4.156  < 1e-04\n",
            "nodecov.founded_year_month       -9.727e-06  2.819e-06      0  -3.451 0.000559\n",
            "nodematch.country_code            7.867e-01  3.840e-02      0  20.485  < 1e-04\n",
            "nodematch.region                  5.027e-01  8.354e-02      0   6.018  < 1e-04\n",
            "nodematch.city                    6.931e-01  1.031e-01      0   6.722  < 1e-04\n",
            "nodematch.primary_category        8.817e-01  7.056e-02      0  12.496  < 1e-04\n",
            "nodematch.primary_category_group  1.193e+00  5.116e-02      0  23.314  < 1e-04\n",
            "                                    \n",
            "edges                            ***\n",
            "nodecov.founded_year_month       ***\n",
            "nodematch.country_code           ***\n",
            "nodematch.region                 ***\n",
            "nodematch.city                   ***\n",
            "nodematch.primary_category       ***\n",
            "nodematch.primary_category_group ***\n",
            "---\n",
            "Signif. codes:  0 ‘***’ 0.001 ‘**’ 0.01 ‘*’ 0.05 ‘.’ 0.1 ‘ ’ 1\n",
            "\n",
            "     Null Deviance: 11439636  on 8251953  degrees of freedom\n",
            " Residual Deviance:    53329  on 8251946  degrees of freedom\n",
            " \n",
            "AIC: 53343  BIC: 53441  (Smaller is better. MC Std. Err. = 0)\n"
          ]
        }
      ],
      "source": [
        "%%R\n",
        "fit <- ergm(ergmNetwork ~ edges +\n",
        "            nodecov('founded_year_month') +\n",
        "            nodematch('country_code') + nodematch('region') + nodematch('city') + nodematch('primary_category') + nodematch('primary_category_group')\n",
        "            )\n",
        "summary(fit)"
      ]
    }
  ],
  "metadata": {
    "colab": {
      "provenance": []
    },
    "kernelspec": {
      "display_name": "Python 3",
      "name": "python3"
    },
    "language_info": {
      "name": "python"
    }
  },
  "nbformat": 4,
  "nbformat_minor": 0
}