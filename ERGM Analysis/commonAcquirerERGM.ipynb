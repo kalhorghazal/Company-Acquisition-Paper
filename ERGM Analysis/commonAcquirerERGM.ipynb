{
  "cells": [
    {
      "cell_type": "code",
      "execution_count": null,
      "metadata": {
        "colab": {
          "base_uri": "https://localhost:8080/"
        },
        "id": "HXfuSoWXZ1Kb",
        "outputId": "e918b2a1-312a-4ac9-93a2-9646bead1b14"
      },
      "outputs": [
        {
          "name": "stdout",
          "output_type": "stream",
          "text": [
            "The rpy2.ipython extension is already loaded. To reload it, use:\n",
            "  %reload_ext rpy2.ipython\n"
          ]
        }
      ],
      "source": [
        "import rpy2.rinterface\n",
        "%load_ext rpy2.ipython"
      ]
    },
    {
      "cell_type": "markdown",
      "source": [
        "# Install & Import Libraries"
      ],
      "metadata": {
        "id": "akVrWfTJDjie"
      }
    },
    {
      "cell_type": "code",
      "execution_count": null,
      "metadata": {
        "id": "SZBPle4ZZ_IY"
      },
      "outputs": [],
      "source": [
        "%%R\n",
        "install.packages(\"igraph\")\n",
        "install.packages(\"ergm\")\n",
        "install.packages(\"intergraph\")"
      ]
    },
    {
      "cell_type": "code",
      "source": [
        "%%R\n",
        "library(igraph)\n",
        "library(magrittr)\n",
        "library(dplyr)\n",
        "library(ergm)\n",
        "library(intergraph)"
      ],
      "metadata": {
        "id": "0qsRV52iE7pk"
      },
      "execution_count": null,
      "outputs": []
    },
    {
      "cell_type": "markdown",
      "source": [
        "# Import Network"
      ],
      "metadata": {
        "id": "MHBKw2nUDeTW"
      }
    },
    {
      "cell_type": "code",
      "execution_count": null,
      "metadata": {
        "id": "8Dr5EKTJaeUK"
      },
      "outputs": [],
      "source": [
        "!cp \"/content/drive/MyDrive/Startup Project/Acquisition Network/commonAcquirer.graphml\" ."
      ]
    },
    {
      "cell_type": "code",
      "execution_count": null,
      "metadata": {
        "id": "oqGUZ7PwP_n8"
      },
      "outputs": [],
      "source": [
        "%%R\n",
        "graph <- read.graph(\"commonAcquirer.graphml\", format = \"graphml\")\n",
        "ergmNetwork <- intergraph::asNetwork(graph)"
      ]
    },
    {
      "cell_type": "markdown",
      "source": [
        "# Fit the Model"
      ],
      "metadata": {
        "id": "hFqv0YLtDayR"
      }
    },
    {
      "cell_type": "code",
      "execution_count": null,
      "metadata": {
        "colab": {
          "base_uri": "https://localhost:8080/"
        },
        "id": "TiCsNnU9axXw",
        "outputId": "143d970d-0e6a-46b3-80b1-ff91280c92c3"
      },
      "outputs": [
        {
          "name": "stderr",
          "output_type": "stream",
          "text": [
            "WARNING:rpy2.rinterface_lib.callbacks:R[write to console]: Starting maximum pseudolikelihood estimation (MPLE):\n",
            "\n",
            "WARNING:rpy2.rinterface_lib.callbacks:R[write to console]: Obtaining the responsible dyads.\n",
            "\n",
            "WARNING:rpy2.rinterface_lib.callbacks:R[write to console]: Evaluating the predictor and response matrix.\n",
            "\n",
            "WARNING:rpy2.rinterface_lib.callbacks:R[write to console]: Maximizing the pseudolikelihood.\n",
            "\n",
            "WARNING:rpy2.rinterface_lib.callbacks:R[write to console]: Finished MPLE.\n",
            "\n",
            "WARNING:rpy2.rinterface_lib.callbacks:R[write to console]: Evaluating log-likelihood at the estimate. \n",
            "WARNING:rpy2.rinterface_lib.callbacks:R[write to console]: \n",
            "\n"
          ]
        },
        {
          "name": "stdout",
          "output_type": "stream",
          "text": [
            "Call:\n",
            "ergm(formula = ergmNetwork ~ edges + nodecov(\"founded_year_month\") + \n",
            "    nodematch(\"country_code\") + nodematch(\"region\") + nodematch(\"city\") + \n",
            "    nodematch(\"primary_category\") + nodematch(\"primary_category_group\"))\n",
            "\n",
            "Maximum Likelihood Results:\n",
            "\n",
            "                                   Estimate Std. Error MCMC % z value Pr(>|z|)\n",
            "edges                             9.803e+00  1.053e-01      0   93.09   <1e-04\n",
            "nodecov.founded_year_month       -4.678e-05  2.647e-07      0 -176.74   <1e-04\n",
            "nodematch.country_code            7.210e-01  2.605e-03      0  276.80   <1e-04\n",
            "nodematch.region                  5.443e-01  5.706e-03      0   95.39   <1e-04\n",
            "nodematch.city                    4.792e-01  1.107e-02      0   43.30   <1e-04\n",
            "nodematch.primary_category        1.553e+00  4.454e-03      0  348.58   <1e-04\n",
            "nodematch.primary_category_group  1.481e+00  3.856e-03      0  383.99   <1e-04\n",
            "                                    \n",
            "edges                            ***\n",
            "nodecov.founded_year_month       ***\n",
            "nodematch.country_code           ***\n",
            "nodematch.region                 ***\n",
            "nodematch.city                   ***\n",
            "nodematch.primary_category       ***\n",
            "nodematch.primary_category_group ***\n",
            "---\n",
            "Signif. codes:  0 ‘***’ 0.001 ‘**’ 0.01 ‘*’ 0.05 ‘.’ 0.1 ‘ ’ 1\n",
            "\n",
            "     Null Deviance: 3.233e+09  on 2.332e+09  degrees of freedom\n",
            " Residual Deviance: 1.109e+07  on 2.332e+09  degrees of freedom\n",
            " \n",
            "AIC: 11085347  BIC: 11085484  (Smaller is better. MC Std. Err. = 0)\n"
          ]
        }
      ],
      "source": [
        "%%R\n",
        "fit <- ergm(ergmNetwork ~ edges +\n",
        "            nodecov('founded_year_month') +\n",
        "            nodematch('country_code') + nodematch('region') + nodematch('city') + nodematch('primary_category') + nodematch('primary_category_group')\n",
        "            )\n",
        "summary(fit)"
      ]
    }
  ],
  "metadata": {
    "colab": {
      "provenance": []
    },
    "kernelspec": {
      "display_name": "Python 3",
      "name": "python3"
    },
    "language_info": {
      "name": "python"
    }
  },
  "nbformat": 4,
  "nbformat_minor": 0
}