{
  "cells": [
    {
      "cell_type": "code",
      "execution_count": 1,
      "metadata": {
        "id": "CLxPcbPXkh-l"
      },
      "outputs": [],
      "source": [
        "!cp \"/content/drive/MyDrive/Startup Project/Acquisition Network/commonAcquirer.graphml\" ."
      ]
    },
    {
      "cell_type": "markdown",
      "metadata": {
        "id": "4fDFn_UBii41"
      },
      "source": [
        "# Importing Libraries"
      ]
    },
    {
      "cell_type": "code",
      "execution_count": 2,
      "metadata": {
        "colab": {
          "base_uri": "https://localhost:8080/"
        },
        "id": "AYdArTrzlZY8",
        "outputId": "a22d2cd9-b9f8-4fd2-8d45-d8d2f80f416c"
      },
      "outputs": [
        {
          "output_type": "stream",
          "name": "stdout",
          "text": [
            "Requirement already satisfied: python-igraph in /usr/local/lib/python3.10/dist-packages (0.11.5)\n",
            "Requirement already satisfied: igraph==0.11.5 in /usr/local/lib/python3.10/dist-packages (from python-igraph) (0.11.5)\n",
            "Requirement already satisfied: texttable>=1.6.2 in /usr/local/lib/python3.10/dist-packages (from igraph==0.11.5->python-igraph) (1.7.0)\n"
          ]
        }
      ],
      "source": [
        "!pip install python-igraph"
      ]
    },
    {
      "cell_type": "code",
      "execution_count": 3,
      "metadata": {
        "id": "45hIY-kpkotr"
      },
      "outputs": [],
      "source": [
        "import networkx as nx\n",
        "import pandas as pd\n",
        "import os.path as path\n",
        "import numpy as np\n",
        "import networkx.algorithms.community as nx_comm\n",
        "from random import choice\n",
        "import igraph as ig"
      ]
    },
    {
      "cell_type": "code",
      "execution_count": 4,
      "metadata": {
        "id": "pAnD_zl_mBoO"
      },
      "outputs": [],
      "source": [
        "G = nx.read_graphml(\"commonAcquirer.graphml\")"
      ]
    },
    {
      "cell_type": "markdown",
      "metadata": {
        "id": "geh7JR3YlQB-"
      },
      "source": [
        "# Calculating Structural Features"
      ]
    },
    {
      "cell_type": "code",
      "execution_count": 5,
      "metadata": {
        "colab": {
          "base_uri": "https://localhost:8080/"
        },
        "id": "LWotRd2GuXr3",
        "outputId": "58bc3a57-ee00-4f2f-e01c-5eb1e8ad129b"
      },
      "outputs": [
        {
          "output_type": "stream",
          "name": "stdout",
          "text": [
            "Number of Nodes: 68297\n"
          ]
        }
      ],
      "source": [
        "n = nx.number_of_nodes(G)\n",
        "print(\"Number of Nodes:\", n)"
      ]
    },
    {
      "cell_type": "code",
      "execution_count": 6,
      "metadata": {
        "colab": {
          "base_uri": "https://localhost:8080/"
        },
        "id": "P8LxgCJguiV8",
        "outputId": "2edb8c29-49cd-4918-b402-b294adf4752e"
      },
      "outputs": [
        {
          "output_type": "stream",
          "name": "stdout",
          "text": [
            "Number of Edges: 639064\n"
          ]
        }
      ],
      "source": [
        "m = nx.number_of_edges(G)\n",
        "print(\"Number of Edges:\", m)"
      ]
    },
    {
      "cell_type": "code",
      "execution_count": 7,
      "metadata": {
        "colab": {
          "base_uri": "https://localhost:8080/"
        },
        "id": "WCWEutzkuqUR",
        "outputId": "3580075c-dc14-46b6-f60a-3cdfb280ce32"
      },
      "outputs": [
        {
          "output_type": "stream",
          "name": "stdout",
          "text": [
            "Density: 0.00027401696593557624\n"
          ]
        }
      ],
      "source": [
        "density = nx.density(G)\n",
        "print(\"Density:\", density)"
      ]
    },
    {
      "cell_type": "code",
      "execution_count": 8,
      "metadata": {
        "colab": {
          "base_uri": "https://localhost:8080/"
        },
        "id": "iGLtLLPs7Mj8",
        "outputId": "9939f3a6-a36e-4de7-c4bf-ce66d9e942ad"
      },
      "outputs": [
        {
          "output_type": "stream",
          "name": "stdout",
          "text": [
            "Transitivity: 0.992995173453566\n"
          ]
        }
      ],
      "source": [
        "transitivity = nx.transitivity(G)\n",
        "print(\"Transitivity:\", transitivity)"
      ]
    },
    {
      "cell_type": "code",
      "execution_count": 9,
      "metadata": {
        "colab": {
          "base_uri": "https://localhost:8080/"
        },
        "id": "x3Lk24Jq7eJe",
        "outputId": "36e06edf-26a5-45fa-9631-19f1f8e5ec77"
      },
      "outputs": [
        {
          "output_type": "stream",
          "name": "stdout",
          "text": [
            "Average Clustering Coefficient: 0.9589313755116959\n"
          ]
        }
      ],
      "source": [
        "lcc = G.subgraph(max(nx.connected_components(G), key=len))\n",
        "avg_clustering_coefficient = nx.average_clustering(lcc)\n",
        "print(\"Average Clustering Coefficient:\", avg_clustering_coefficient)"
      ]
    },
    {
      "cell_type": "code",
      "execution_count": 10,
      "metadata": {
        "colab": {
          "base_uri": "https://localhost:8080/"
        },
        "id": "gpr9R52pI_gj",
        "outputId": "5a5be3e4-88af-40af-cae5-06cd1faf0569"
      },
      "outputs": [
        {
          "output_type": "stream",
          "name": "stdout",
          "text": [
            "Average Shortest Path Length: 7.2171\n"
          ]
        }
      ],
      "source": [
        "total = 0\n",
        "for i in range(10000):\n",
        "  a = choice(list(lcc.nodes()))\n",
        "  b = choice(list(lcc.nodes()))\n",
        "  dist = nx.shortest_path_length(lcc, source=a, target=b, method='dijkstra')\n",
        "  total += dist\n",
        "average_shortest_path_length = total / 10000\n",
        "print(\"Average Shortest Path Length:\", average_shortest_path_length)"
      ]
    },
    {
      "cell_type": "code",
      "execution_count": 11,
      "metadata": {
        "colab": {
          "base_uri": "https://localhost:8080/"
        },
        "id": "ffrw1h0hkw3U",
        "outputId": "afdfc39d-7f7c-4f0a-8633-e6063a112d87"
      },
      "outputs": [
        {
          "output_type": "stream",
          "name": "stdout",
          "text": [
            "Number of Communities: 12786\n"
          ]
        }
      ],
      "source": [
        "g = ig.Graph.from_networkx(G)\n",
        "communities = g.community_infomap()\n",
        "c = len(communities)\n",
        "print(\"Number of Communities:\", c)"
      ]
    },
    {
      "cell_type": "code",
      "execution_count": 12,
      "metadata": {
        "colab": {
          "base_uri": "https://localhost:8080/"
        },
        "id": "y-OIz93bvCf6",
        "outputId": "e51aecb7-424b-4c06-9219-890d8cc7c54d"
      },
      "outputs": [
        {
          "output_type": "stream",
          "name": "stdout",
          "text": [
            "Largest Connected Component Size: 10427\n"
          ]
        }
      ],
      "source": [
        "lcc = max(nx.connected_components(G), key=len)\n",
        "lcc_size = len(lcc)\n",
        "print(\"Largest Connected Component Size:\", lcc_size)"
      ]
    },
    {
      "cell_type": "markdown",
      "metadata": {
        "id": "vJBSOkAMlEvX"
      },
      "source": [
        "# Creating Baseline Model"
      ]
    },
    {
      "cell_type": "code",
      "execution_count": 13,
      "metadata": {
        "id": "Ol5YfMrmlFtp"
      },
      "outputs": [],
      "source": [
        "p = m / (n * (n - 1))\n",
        "baseline = nx.erdos_renyi_graph(n, p, seed=42, directed=False)"
      ]
    },
    {
      "cell_type": "code",
      "execution_count": 14,
      "metadata": {
        "colab": {
          "base_uri": "https://localhost:8080/"
        },
        "id": "PzxQgcUvrTIb",
        "outputId": "7ef0f2eb-371a-472e-8f7c-d722a9382302"
      },
      "outputs": [
        {
          "output_type": "stream",
          "name": "stdout",
          "text": [
            "Baseline Model Density: 0.00013707194220028825\n"
          ]
        }
      ],
      "source": [
        "baseline_density = nx.density(baseline)\n",
        "print(\"Baseline Model Density:\", baseline_density)"
      ]
    },
    {
      "cell_type": "code",
      "execution_count": 15,
      "metadata": {
        "colab": {
          "base_uri": "https://localhost:8080/"
        },
        "id": "lEThbyQctTDr",
        "outputId": "74f9620c-4de3-4be3-9a7f-9de887f60139"
      },
      "outputs": [
        {
          "output_type": "stream",
          "name": "stdout",
          "text": [
            "Baseline Model Transitivity: 0.0001294552942699474\n"
          ]
        }
      ],
      "source": [
        "baseline_transitivity = nx.transitivity(baseline)\n",
        "print(\"Baseline Model Transitivity:\", baseline_transitivity)"
      ]
    },
    {
      "cell_type": "code",
      "execution_count": 16,
      "metadata": {
        "colab": {
          "base_uri": "https://localhost:8080/"
        },
        "id": "dyATFrmYTm6L",
        "outputId": "3df0b0f7-413e-4bca-9228-321ef98b1b22"
      },
      "outputs": [
        {
          "output_type": "stream",
          "name": "stdout",
          "text": [
            "Baseline Model Average Clustering Coefficient: 0.0001255106210298623\n"
          ]
        }
      ],
      "source": [
        "lcc = baseline.subgraph(max(nx.connected_components(baseline), key=len))\n",
        "baseline_avg_clustering_coefficient = nx.average_clustering(lcc)\n",
        "print(\"Baseline Model Average Clustering Coefficient:\", baseline_avg_clustering_coefficient)"
      ]
    },
    {
      "cell_type": "code",
      "execution_count": 17,
      "metadata": {
        "colab": {
          "base_uri": "https://localhost:8080/"
        },
        "id": "BYemOlYpT0n4",
        "outputId": "2cb6367a-bf38-441b-a22d-d12c182a5201"
      },
      "outputs": [
        {
          "output_type": "stream",
          "name": "stdout",
          "text": [
            "Baseline Model Average Shortest Path Length: 5.2251\n"
          ]
        }
      ],
      "source": [
        "total = 0\n",
        "for i in range(10000):\n",
        "  a = choice(list(lcc.nodes()))\n",
        "  b = choice(list(lcc.nodes()))\n",
        "  dist = nx.shortest_path_length(lcc, source=a, target=b, method='dijkstra')\n",
        "  total += dist\n",
        "baseline_average_shortest_path_length = total / 10000\n",
        "print(\"Baseline Model Average Shortest Path Length:\", baseline_average_shortest_path_length)"
      ]
    },
    {
      "cell_type": "code",
      "execution_count": 18,
      "metadata": {
        "id": "z_j59wr8UDWw",
        "colab": {
          "base_uri": "https://localhost:8080/"
        },
        "outputId": "9d0a1475-7f40-4d04-d3fb-e1a88cea7866"
      },
      "outputs": [
        {
          "output_type": "stream",
          "name": "stdout",
          "text": [
            "Baseline Model Number of Communities: 4615\n"
          ]
        }
      ],
      "source": [
        "baseline_g = ig.Graph.from_networkx(baseline)\n",
        "communities = baseline_g.community_infomap()\n",
        "baseline_c = len(communities)\n",
        "print(\"Baseline Model Number of Communities:\", baseline_c)"
      ]
    },
    {
      "cell_type": "code",
      "execution_count": 19,
      "metadata": {
        "id": "ers3NkiTUdQq",
        "colab": {
          "base_uri": "https://localhost:8080/"
        },
        "outputId": "d5cc5380-d9df-47e4-893e-6e5ebc64d80e"
      },
      "outputs": [
        {
          "output_type": "stream",
          "name": "stdout",
          "text": [
            "Baseline Model Largest Connected Component Size: 68296\n"
          ]
        }
      ],
      "source": [
        "lscc = max(nx.connected_components(baseline), key=len)\n",
        "baseline_lcc_size = len(lscc)\n",
        "print(\"Baseline Model Largest Connected Component Size:\", baseline_lcc_size)"
      ]
    }
  ],
  "metadata": {
    "colab": {
      "provenance": []
    },
    "kernelspec": {
      "display_name": "Python 3",
      "name": "python3"
    },
    "language_info": {
      "name": "python"
    }
  },
  "nbformat": 4,
  "nbformat_minor": 0
}