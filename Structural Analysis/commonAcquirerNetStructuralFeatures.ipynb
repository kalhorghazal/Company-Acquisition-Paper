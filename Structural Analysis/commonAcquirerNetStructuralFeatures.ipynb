{
  "cells": [
    {
      "cell_type": "code",
      "execution_count": 1,
      "metadata": {
        "id": "CLxPcbPXkh-l"
      },
      "outputs": [],
      "source": [
        "!cp \"/content/drive/MyDrive/Startup Project/Acquisition Network/commonAcquirer.graphml\" ."
      ]
    },
    {
      "cell_type": "markdown",
      "metadata": {
        "id": "4fDFn_UBii41"
      },
      "source": [
        "# Importing Libraries"
      ]
    },
    {
      "cell_type": "code",
      "execution_count": 2,
      "metadata": {
        "colab": {
          "base_uri": "https://localhost:8080/"
        },
        "id": "AYdArTrzlZY8",
        "outputId": "c0234a96-5c6a-45ac-b6b3-115d9639bc83"
      },
      "outputs": [
        {
          "output_type": "stream",
          "name": "stdout",
          "text": [
            "Requirement already satisfied: python-igraph in /usr/local/lib/python3.10/dist-packages (0.11.5)\n",
            "Requirement already satisfied: igraph==0.11.5 in /usr/local/lib/python3.10/dist-packages (from python-igraph) (0.11.5)\n",
            "Requirement already satisfied: texttable>=1.6.2 in /usr/local/lib/python3.10/dist-packages (from igraph==0.11.5->python-igraph) (1.7.0)\n"
          ]
        }
      ],
      "source": [
        "!pip install python-igraph"
      ]
    },
    {
      "cell_type": "code",
      "execution_count": 3,
      "metadata": {
        "id": "45hIY-kpkotr"
      },
      "outputs": [],
      "source": [
        "import networkx as nx\n",
        "import pandas as pd\n",
        "import os.path as path\n",
        "import numpy as np\n",
        "import networkx.algorithms.community as nx_comm\n",
        "from random import choice\n",
        "import igraph as ig"
      ]
    },
    {
      "cell_type": "code",
      "execution_count": 4,
      "metadata": {
        "id": "pAnD_zl_mBoO"
      },
      "outputs": [],
      "source": [
        "G = nx.read_graphml(\"commonAcquirer.graphml\")"
      ]
    },
    {
      "cell_type": "markdown",
      "metadata": {
        "id": "geh7JR3YlQB-"
      },
      "source": [
        "# Calculating Structural Features"
      ]
    },
    {
      "cell_type": "code",
      "execution_count": 5,
      "metadata": {
        "colab": {
          "base_uri": "https://localhost:8080/"
        },
        "id": "LWotRd2GuXr3",
        "outputId": "92ad711a-a384-4a23-81e7-a11c03ae0977"
      },
      "outputs": [
        {
          "output_type": "stream",
          "name": "stdout",
          "text": [
            "Number of Nodes: 68297\n"
          ]
        }
      ],
      "source": [
        "n = nx.number_of_nodes(G)\n",
        "print(\"Number of Nodes:\", n)"
      ]
    },
    {
      "cell_type": "code",
      "execution_count": 6,
      "metadata": {
        "colab": {
          "base_uri": "https://localhost:8080/"
        },
        "id": "P8LxgCJguiV8",
        "outputId": "15fd1131-d269-4770-a32f-21ce33508a5a"
      },
      "outputs": [
        {
          "output_type": "stream",
          "name": "stdout",
          "text": [
            "Number of Edges: 639064\n"
          ]
        }
      ],
      "source": [
        "m = nx.number_of_edges(G)\n",
        "print(\"Number of Edges:\", m)"
      ]
    },
    {
      "cell_type": "code",
      "execution_count": null,
      "metadata": {
        "colab": {
          "base_uri": "https://localhost:8080/"
        },
        "id": "WCWEutzkuqUR",
        "outputId": "3580075c-dc14-46b6-f60a-3cdfb280ce32"
      },
      "outputs": [
        {
          "name": "stdout",
          "output_type": "stream",
          "text": [
            "Density: 0.00027401696593557624\n"
          ]
        }
      ],
      "source": [
        "density = nx.density(G)\n",
        "print(\"Density:\", density)"
      ]
    },
    {
      "cell_type": "code",
      "execution_count": null,
      "metadata": {
        "colab": {
          "base_uri": "https://localhost:8080/"
        },
        "id": "iGLtLLPs7Mj8",
        "outputId": "9939f3a6-a36e-4de7-c4bf-ce66d9e942ad"
      },
      "outputs": [
        {
          "name": "stdout",
          "output_type": "stream",
          "text": [
            "Transitivity: 0.992995173453566\n"
          ]
        }
      ],
      "source": [
        "transitivity = nx.transitivity(G)\n",
        "print(\"Transitivity:\", transitivity)"
      ]
    },
    {
      "cell_type": "code",
      "execution_count": null,
      "metadata": {
        "colab": {
          "base_uri": "https://localhost:8080/"
        },
        "id": "x3Lk24Jq7eJe",
        "outputId": "36e06edf-26a5-45fa-9631-19f1f8e5ec77"
      },
      "outputs": [
        {
          "name": "stdout",
          "output_type": "stream",
          "text": [
            "Average Clustering Coefficient: 0.9589313755116959\n"
          ]
        }
      ],
      "source": [
        "lcc = G.subgraph(max(nx.connected_components(G), key=len))\n",
        "avg_clustering_coefficient = nx.average_clustering(lcc)\n",
        "print(\"Average Clustering Coefficient:\", avg_clustering_coefficient)"
      ]
    },
    {
      "cell_type": "code",
      "execution_count": null,
      "metadata": {
        "colab": {
          "base_uri": "https://localhost:8080/"
        },
        "id": "gpr9R52pI_gj",
        "outputId": "5a5be3e4-88af-40af-cae5-06cd1faf0569"
      },
      "outputs": [
        {
          "name": "stdout",
          "output_type": "stream",
          "text": [
            "Average Shortest Path Length: 7.2171\n"
          ]
        }
      ],
      "source": [
        "total = 0\n",
        "for i in range(10000):\n",
        "  a = choice(list(lcc.nodes()))\n",
        "  b = choice(list(lcc.nodes()))\n",
        "  dist = nx.shortest_path_length(lcc, source=a, target=b, method='dijkstra')\n",
        "  total += dist\n",
        "average_shortest_path_length = total / 10000\n",
        "print(\"Average Shortest Path Length:\", average_shortest_path_length)"
      ]
    },
    {
      "cell_type": "code",
      "execution_count": null,
      "metadata": {
        "colab": {
          "base_uri": "https://localhost:8080/"
        },
        "id": "y-OIz93bvCf6",
        "outputId": "e51aecb7-424b-4c06-9219-890d8cc7c54d"
      },
      "outputs": [
        {
          "name": "stdout",
          "output_type": "stream",
          "text": [
            "Largest Connected Component Size: 10427\n"
          ]
        }
      ],
      "source": [
        "lcc = max(nx.connected_components(G), key=len)\n",
        "lcc_size = len(lcc)\n",
        "print(\"Largest Connected Component Size:\", lcc_size)"
      ]
    },
    {
      "cell_type": "markdown",
      "metadata": {
        "id": "vJBSOkAMlEvX"
      },
      "source": [
        "# Creating Baseline Model"
      ]
    },
    {
      "cell_type": "code",
      "execution_count": 7,
      "metadata": {
        "id": "Ol5YfMrmlFtp"
      },
      "outputs": [],
      "source": [
        "p = 2 * m / (n * (n - 1))\n",
        "baseline = nx.erdos_renyi_graph(n, p, seed=25, directed=False)"
      ]
    },
    {
      "cell_type": "code",
      "execution_count": 8,
      "metadata": {
        "colab": {
          "base_uri": "https://localhost:8080/"
        },
        "id": "PzxQgcUvrTIb",
        "outputId": "5d549b72-75be-47fb-bf0a-74ae59bc05ac"
      },
      "outputs": [
        {
          "output_type": "stream",
          "name": "stdout",
          "text": [
            "Baseline Model Density: 0.0002739908104410998\n"
          ]
        }
      ],
      "source": [
        "baseline_density = nx.density(baseline)\n",
        "print(\"Baseline Model Density:\", baseline_density)"
      ]
    },
    {
      "cell_type": "code",
      "execution_count": 9,
      "metadata": {
        "colab": {
          "base_uri": "https://localhost:8080/"
        },
        "id": "lEThbyQctTDr",
        "outputId": "b7609bc5-2a59-490c-aed9-3cb514d2a428"
      },
      "outputs": [
        {
          "output_type": "stream",
          "name": "stdout",
          "text": [
            "Baseline Model Transitivity: 0.0002707160502252287\n"
          ]
        }
      ],
      "source": [
        "baseline_transitivity = nx.transitivity(baseline)\n",
        "print(\"Baseline Model Transitivity:\", baseline_transitivity)"
      ]
    },
    {
      "cell_type": "code",
      "execution_count": 10,
      "metadata": {
        "colab": {
          "base_uri": "https://localhost:8080/"
        },
        "id": "dyATFrmYTm6L",
        "outputId": "b6a2ed8c-e69d-47c7-eacb-7002840eeb9a"
      },
      "outputs": [
        {
          "output_type": "stream",
          "name": "stdout",
          "text": [
            "Baseline Model Average Clustering Coefficient: 0.00026952290066435393\n"
          ]
        }
      ],
      "source": [
        "lcc = baseline.subgraph(max(nx.connected_components(baseline), key=len))\n",
        "baseline_avg_clustering_coefficient = nx.average_clustering(lcc)\n",
        "print(\"Baseline Model Average Clustering Coefficient:\", baseline_avg_clustering_coefficient)"
      ]
    },
    {
      "cell_type": "code",
      "execution_count": 11,
      "metadata": {
        "colab": {
          "base_uri": "https://localhost:8080/"
        },
        "id": "BYemOlYpT0n4",
        "outputId": "6f1e0486-7356-4ea5-c702-d9a381d8283f"
      },
      "outputs": [
        {
          "output_type": "stream",
          "name": "stdout",
          "text": [
            "Baseline Model Average Shortest Path Length: 4.0775\n"
          ]
        }
      ],
      "source": [
        "total = 0\n",
        "for i in range(10000):\n",
        "  a = choice(list(lcc.nodes()))\n",
        "  b = choice(list(lcc.nodes()))\n",
        "  dist = nx.shortest_path_length(lcc, source=a, target=b, method='dijkstra')\n",
        "  total += dist\n",
        "baseline_average_shortest_path_length = total / 10000\n",
        "print(\"Baseline Model Average Shortest Path Length:\", baseline_average_shortest_path_length)"
      ]
    },
    {
      "cell_type": "code",
      "execution_count": 12,
      "metadata": {
        "id": "ers3NkiTUdQq",
        "colab": {
          "base_uri": "https://localhost:8080/"
        },
        "outputId": "4dea626e-839e-4115-8209-c4f32a607538"
      },
      "outputs": [
        {
          "output_type": "stream",
          "name": "stdout",
          "text": [
            "Baseline Model Largest Connected Component Size: 68297\n"
          ]
        }
      ],
      "source": [
        "lscc = max(nx.connected_components(baseline), key=len)\n",
        "baseline_lcc_size = len(lscc)\n",
        "print(\"Baseline Model Largest Connected Component Size:\", baseline_lcc_size)"
      ]
    }
  ],
  "metadata": {
    "colab": {
      "provenance": []
    },
    "kernelspec": {
      "display_name": "Python 3",
      "name": "python3"
    },
    "language_info": {
      "name": "python"
    }
  },
  "nbformat": 4,
  "nbformat_minor": 0
}