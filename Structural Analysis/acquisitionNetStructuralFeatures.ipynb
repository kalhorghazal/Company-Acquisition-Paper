{
  "cells": [
    {
      "cell_type": "code",
      "execution_count": null,
      "metadata": {
        "id": "CLxPcbPXkh-l"
      },
      "outputs": [],
      "source": [
        "!cp \"/content/drive/MyDrive/Startup Project/Acquisition Network/acquisitionNet.graphml\" ."
      ]
    },
    {
      "cell_type": "markdown",
      "metadata": {
        "id": "4fDFn_UBii41"
      },
      "source": [
        "# Importing Libraries"
      ]
    },
    {
      "cell_type": "code",
      "execution_count": null,
      "metadata": {
        "colab": {
          "base_uri": "https://localhost:8080/"
        },
        "id": "AYdArTrzlZY8",
        "outputId": "431ce87d-c90e-4396-8fd2-91b7ef21206d"
      },
      "outputs": [
        {
          "name": "stdout",
          "output_type": "stream",
          "text": [
            "Collecting python-igraph\n",
            "  Downloading python_igraph-0.11.5-py3-none-any.whl (9.1 kB)\n",
            "Collecting igraph==0.11.5 (from python-igraph)\n",
            "  Downloading igraph-0.11.5-cp39-abi3-manylinux_2_17_x86_64.manylinux2014_x86_64.whl (3.3 MB)\n",
            "\u001b[2K     \u001b[90m━━━━━━━━━━━━━━━━━━━━━━━━━━━━━━━━━━━━━━━━\u001b[0m \u001b[32m3.3/3.3 MB\u001b[0m \u001b[31m13.9 MB/s\u001b[0m eta \u001b[36m0:00:00\u001b[0m\n",
            "\u001b[?25hCollecting texttable>=1.6.2 (from igraph==0.11.5->python-igraph)\n",
            "  Downloading texttable-1.7.0-py2.py3-none-any.whl (10 kB)\n",
            "Installing collected packages: texttable, igraph, python-igraph\n",
            "Successfully installed igraph-0.11.5 python-igraph-0.11.5 texttable-1.7.0\n"
          ]
        }
      ],
      "source": [
        "!pip install python-igraph"
      ]
    },
    {
      "cell_type": "code",
      "execution_count": null,
      "metadata": {
        "id": "45hIY-kpkotr"
      },
      "outputs": [],
      "source": [
        "import networkx as nx\n",
        "import pandas as pd\n",
        "import os.path as path\n",
        "import numpy as np\n",
        "import networkx.algorithms.community as nx_comm\n",
        "from random import choice\n",
        "import igraph as ig"
      ]
    },
    {
      "cell_type": "code",
      "execution_count": null,
      "metadata": {
        "id": "pAnD_zl_mBoO"
      },
      "outputs": [],
      "source": [
        "G = nx.read_graphml(\"acquisitionNet.graphml\")"
      ]
    },
    {
      "cell_type": "markdown",
      "metadata": {
        "id": "geh7JR3YlQB-"
      },
      "source": [
        "# Calculating Structural Features"
      ]
    },
    {
      "cell_type": "code",
      "execution_count": null,
      "metadata": {
        "colab": {
          "base_uri": "https://localhost:8080/"
        },
        "id": "LWotRd2GuXr3",
        "outputId": "97e2d5c9-b956-4aed-e83d-14a859399522"
      },
      "outputs": [
        {
          "name": "stdout",
          "output_type": "stream",
          "text": [
            "Number of Nodes: 119263\n"
          ]
        }
      ],
      "source": [
        "n = nx.number_of_nodes(G)\n",
        "print(\"Number of Nodes:\", n)"
      ]
    },
    {
      "cell_type": "code",
      "execution_count": null,
      "metadata": {
        "colab": {
          "base_uri": "https://localhost:8080/"
        },
        "id": "P8LxgCJguiV8",
        "outputId": "b28a0638-6c23-4e95-df5a-fd519339f526"
      },
      "outputs": [
        {
          "name": "stdout",
          "output_type": "stream",
          "text": [
            "Number of Edges: 92788\n"
          ]
        }
      ],
      "source": [
        "m = nx.number_of_edges(G)\n",
        "print(\"Number of Edges:\", m)"
      ]
    },
    {
      "cell_type": "code",
      "execution_count": null,
      "metadata": {
        "colab": {
          "base_uri": "https://localhost:8080/"
        },
        "id": "WCWEutzkuqUR",
        "outputId": "a9e7ab35-c999-41c1-a877-20005896e3a9"
      },
      "outputs": [
        {
          "name": "stdout",
          "output_type": "stream",
          "text": [
            "Density: 6.52355001068747e-06\n"
          ]
        }
      ],
      "source": [
        "density = nx.density(G)\n",
        "print(\"Density:\", density)"
      ]
    },
    {
      "cell_type": "code",
      "execution_count": null,
      "metadata": {
        "colab": {
          "base_uri": "https://localhost:8080/"
        },
        "id": "iGLtLLPs7Mj8",
        "outputId": "c06db36c-10b7-4e6b-adca-3fe92f69e5d0"
      },
      "outputs": [
        {
          "name": "stdout",
          "output_type": "stream",
          "text": [
            "Transitivity: 6.023992702363126e-05\n"
          ]
        }
      ],
      "source": [
        "transitivity = nx.transitivity(G)\n",
        "print(\"Transitivity:\", transitivity)"
      ]
    },
    {
      "cell_type": "code",
      "execution_count": null,
      "metadata": {
        "colab": {
          "base_uri": "https://localhost:8080/"
        },
        "id": "x3Lk24Jq7eJe",
        "outputId": "d0478036-8d0e-47a3-f1f6-5c183efc6b4a"
      },
      "outputs": [
        {
          "name": "stdout",
          "output_type": "stream",
          "text": [
            "Average Clustering Coefficient: 0.0020806098635726173\n"
          ]
        }
      ],
      "source": [
        "H = G.to_undirected()\n",
        "max_lcc = max(nx.connected_components(H), key=len)\n",
        "max_wcc = H.subgraph(max_lcc)\n",
        "\n",
        "avg_clustering_coefficient = nx.average_clustering(max_wcc)\n",
        "print(\"Average Clustering Coefficient:\", avg_clustering_coefficient)"
      ]
    },
    {
      "cell_type": "code",
      "execution_count": null,
      "metadata": {
        "colab": {
          "base_uri": "https://localhost:8080/"
        },
        "id": "gpr9R52pI_gj",
        "outputId": "332d2ea6-c198-4969-9d26-239e3e474028"
      },
      "outputs": [
        {
          "name": "stdout",
          "output_type": "stream",
          "text": [
            "Average Shortest Path Length: 14.1938\n"
          ]
        }
      ],
      "source": [
        "total = 0\n",
        "for i in range(10000):\n",
        "  a = choice(list(max_wcc.nodes()))\n",
        "  b = choice(list(max_wcc.nodes()))\n",
        "  dist = nx.shortest_path_length(max_wcc, source=a, target=b, method='dijkstra')\n",
        "  total += dist\n",
        "average_shortest_path_length = total / 10000\n",
        "print(\"Average Shortest Path Length:\", average_shortest_path_length)"
      ]
    },
    {
      "cell_type": "code",
      "execution_count": 22,
      "metadata": {
        "colab": {
          "base_uri": "https://localhost:8080/"
        },
        "id": "ffrw1h0hkw3U",
        "outputId": "d651752e-f26f-46f2-c27d-1bbca1802f34"
      },
      "outputs": [
        {
          "output_type": "stream",
          "name": "stdout",
          "text": [
            "Number of Communities: 32246\n"
          ]
        }
      ],
      "source": [
        "g = ig.Graph.from_networkx(G)\n",
        "communities = g.community_infomap()\n",
        "c = len(communities)\n",
        "print(\"Number of Communities:\", c)"
      ]
    },
    {
      "cell_type": "code",
      "execution_count": 23,
      "metadata": {
        "colab": {
          "base_uri": "https://localhost:8080/"
        },
        "id": "y-OIz93bvCf6",
        "outputId": "eb3d3f50-2d05-4c58-cec9-56e83520092d"
      },
      "outputs": [
        {
          "output_type": "stream",
          "name": "stdout",
          "text": [
            "Largest Weakly Connected Component Size: 25285\n"
          ]
        }
      ],
      "source": [
        "lwcc = max(nx.weakly_connected_components(G), key=len)\n",
        "lwcc_size = len(lwcc)\n",
        "print(\"Largest Weakly Connected Component Size:\", lwcc_size)"
      ]
    },
    {
      "cell_type": "code",
      "execution_count": 24,
      "metadata": {
        "colab": {
          "base_uri": "https://localhost:8080/"
        },
        "id": "vT6eP5T6k1rq",
        "outputId": "d562408f-31ff-48cd-ace0-cde376cd3a5c"
      },
      "outputs": [
        {
          "output_type": "stream",
          "name": "stdout",
          "text": [
            "Largest Strongly Connected Component Size: 3\n"
          ]
        }
      ],
      "source": [
        "lscc = max(nx.strongly_connected_components(G), key=len)\n",
        "lscc_size = len(lscc)\n",
        "print(\"Largest Strongly Connected Component Size:\", lscc_size)"
      ]
    },
    {
      "cell_type": "markdown",
      "metadata": {
        "id": "vJBSOkAMlEvX"
      },
      "source": [
        "# Creating Baseline Model"
      ]
    },
    {
      "cell_type": "code",
      "execution_count": null,
      "metadata": {
        "id": "Ol5YfMrmlFtp"
      },
      "outputs": [],
      "source": [
        "p = m / (n * (n - 1))\n",
        "baseline = nx.erdos_renyi_graph(n, p, seed=42, directed=True)"
      ]
    },
    {
      "cell_type": "code",
      "execution_count": null,
      "metadata": {
        "colab": {
          "base_uri": "https://localhost:8080/"
        },
        "id": "PzxQgcUvrTIb",
        "outputId": "c92161ce-edc5-4b2d-9385-07dcebf844d4"
      },
      "outputs": [
        {
          "name": "stdout",
          "output_type": "stream",
          "text": [
            "Baseline Model Density: 6.479468169752209e-06\n"
          ]
        }
      ],
      "source": [
        "baseline_density = nx.density(baseline)\n",
        "print(\"Baseline Model Density:\", baseline_density)"
      ]
    },
    {
      "cell_type": "code",
      "execution_count": null,
      "metadata": {
        "colab": {
          "base_uri": "https://localhost:8080/"
        },
        "id": "lEThbyQctTDr",
        "outputId": "6e3adad1-f828-4e43-ca45-47eca40fa7f4"
      },
      "outputs": [
        {
          "name": "stdout",
          "output_type": "stream",
          "text": [
            "Baseline Model Transitivity: 0\n"
          ]
        }
      ],
      "source": [
        "baseline_transitivity = nx.transitivity(baseline)\n",
        "print(\"Baseline Model Transitivity:\", baseline_transitivity)"
      ]
    },
    {
      "cell_type": "code",
      "execution_count": null,
      "metadata": {
        "colab": {
          "base_uri": "https://localhost:8080/"
        },
        "id": "dyATFrmYTm6L",
        "outputId": "d4f42852-3d87-4feb-b5a9-e70b41d2be5d"
      },
      "outputs": [
        {
          "name": "stdout",
          "output_type": "stream",
          "text": [
            "Baseline Model Average Clustering Coefficient: 0.0\n"
          ]
        }
      ],
      "source": [
        "H = baseline.to_undirected()\n",
        "max_lcc = max(nx.connected_components(H), key=len)\n",
        "max_wcc = H.subgraph(max_lcc)\n",
        "\n",
        "baseline_avg_clustering_coefficient = nx.average_clustering(max_wcc)\n",
        "print(\"Baseline Model Average Clustering Coefficient:\", baseline_avg_clustering_coefficient)"
      ]
    },
    {
      "cell_type": "code",
      "execution_count": null,
      "metadata": {
        "colab": {
          "background_save": true
        },
        "id": "BYemOlYpT0n4",
        "outputId": "8eb14664-28cc-4d7a-a7a1-eaa0029af0ee"
      },
      "outputs": [
        {
          "name": "stdout",
          "output_type": "stream",
          "text": [
            "Baseline Model Average Shortest Path Length: 23.2348\n"
          ]
        }
      ],
      "source": [
        "total = 0\n",
        "for i in range(10000):\n",
        "  a = choice(list(max_wcc.nodes()))\n",
        "  b = choice(list(max_wcc.nodes()))\n",
        "  dist = nx.shortest_path_length(max_wcc, source=a, target=b, method='dijkstra')\n",
        "  total += dist\n",
        "baseline_average_shortest_path_length = total / 10000\n",
        "print(\"Baseline Model Average Shortest Path Length:\", baseline_average_shortest_path_length)"
      ]
    },
    {
      "cell_type": "code",
      "execution_count": 19,
      "metadata": {
        "id": "z_j59wr8UDWw",
        "colab": {
          "base_uri": "https://localhost:8080/"
        },
        "outputId": "cd24d7e1-4904-4bcd-eda9-751bf33ba215"
      },
      "outputs": [
        {
          "output_type": "stream",
          "name": "stdout",
          "text": [
            "Baseline Model Number of Communities: 41767\n"
          ]
        }
      ],
      "source": [
        "baseline_g = ig.Graph.from_networkx(baseline)\n",
        "communities = baseline_g.community_infomap()\n",
        "baseline_c = len(communities)\n",
        "print(\"Baseline Model Number of Communities:\", baseline_c)"
      ]
    },
    {
      "cell_type": "code",
      "execution_count": 20,
      "metadata": {
        "id": "ZGbY0bbqUSxW",
        "colab": {
          "base_uri": "https://localhost:8080/"
        },
        "outputId": "8ccfbcfd-e6ce-47c1-ed3c-4037a1bffe82"
      },
      "outputs": [
        {
          "output_type": "stream",
          "name": "stdout",
          "text": [
            "Baseline Model Largest Weakly Connected Component Size: 72941\n"
          ]
        }
      ],
      "source": [
        "lwcc = max(nx.weakly_connected_components(baseline), key=len)\n",
        "baseline_lwcc_size = len(lwcc)\n",
        "print(\"Baseline Model Largest Weakly Connected Component Size:\", baseline_lwcc_size)"
      ]
    },
    {
      "cell_type": "code",
      "execution_count": 21,
      "metadata": {
        "id": "ers3NkiTUdQq",
        "colab": {
          "base_uri": "https://localhost:8080/"
        },
        "outputId": "2ea95a56-9065-4d52-ad03-3e7e97bdc69c"
      },
      "outputs": [
        {
          "output_type": "stream",
          "name": "stdout",
          "text": [
            "Baseline Model Largest Strongly Connected Component Size: 1\n"
          ]
        }
      ],
      "source": [
        "lscc = max(nx.strongly_connected_components(baseline), key=len)\n",
        "baseline_lscc_size = len(lscc)\n",
        "print(\"Baseline Model Largest Strongly Connected Component Size:\", baseline_lscc_size)"
      ]
    }
  ],
  "metadata": {
    "colab": {
      "provenance": []
    },
    "kernelspec": {
      "display_name": "Python 3",
      "name": "python3"
    },
    "language_info": {
      "name": "python"
    }
  },
  "nbformat": 4,
  "nbformat_minor": 0
}