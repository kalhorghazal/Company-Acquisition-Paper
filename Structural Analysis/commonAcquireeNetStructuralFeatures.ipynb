{
  "cells": [
    {
      "cell_type": "code",
      "execution_count": 1,
      "metadata": {
        "id": "CLxPcbPXkh-l"
      },
      "outputs": [],
      "source": [
        "!cp \"/content/drive/MyDrive/Startup Project/Acquisition Network/commonAcquiree.graphml\" ."
      ]
    },
    {
      "cell_type": "markdown",
      "metadata": {
        "id": "4fDFn_UBii41"
      },
      "source": [
        "# Importing Libraries"
      ]
    },
    {
      "cell_type": "code",
      "execution_count": 2,
      "metadata": {
        "colab": {
          "base_uri": "https://localhost:8080/"
        },
        "id": "AYdArTrzlZY8",
        "outputId": "0e8250e4-19f1-4839-aae3-7cb49b25d32f"
      },
      "outputs": [
        {
          "output_type": "stream",
          "name": "stdout",
          "text": [
            "Collecting python-igraph\n",
            "  Downloading python_igraph-0.11.5-py3-none-any.whl (9.1 kB)\n",
            "Collecting igraph==0.11.5 (from python-igraph)\n",
            "  Downloading igraph-0.11.5-cp39-abi3-manylinux_2_17_x86_64.manylinux2014_x86_64.whl (3.3 MB)\n",
            "\u001b[2K     \u001b[90m━━━━━━━━━━━━━━━━━━━━━━━━━━━━━━━━━━━━━━━━\u001b[0m \u001b[32m3.3/3.3 MB\u001b[0m \u001b[31m13.8 MB/s\u001b[0m eta \u001b[36m0:00:00\u001b[0m\n",
            "\u001b[?25hCollecting texttable>=1.6.2 (from igraph==0.11.5->python-igraph)\n",
            "  Downloading texttable-1.7.0-py2.py3-none-any.whl (10 kB)\n",
            "Installing collected packages: texttable, igraph, python-igraph\n",
            "Successfully installed igraph-0.11.5 python-igraph-0.11.5 texttable-1.7.0\n"
          ]
        }
      ],
      "source": [
        "!pip install python-igraph"
      ]
    },
    {
      "cell_type": "code",
      "execution_count": 3,
      "metadata": {
        "id": "45hIY-kpkotr"
      },
      "outputs": [],
      "source": [
        "import networkx as nx\n",
        "import pandas as pd\n",
        "import os.path as path\n",
        "import numpy as np\n",
        "import networkx.algorithms.community as nx_comm\n",
        "from random import choice\n",
        "import igraph as ig"
      ]
    },
    {
      "cell_type": "code",
      "execution_count": 4,
      "metadata": {
        "id": "pAnD_zl_mBoO"
      },
      "outputs": [],
      "source": [
        "G = nx.read_graphml(\"commonAcquiree.graphml\")"
      ]
    },
    {
      "cell_type": "markdown",
      "metadata": {
        "id": "geh7JR3YlQB-"
      },
      "source": [
        "# Calculating Structural Features"
      ]
    },
    {
      "cell_type": "code",
      "execution_count": 5,
      "metadata": {
        "colab": {
          "base_uri": "https://localhost:8080/"
        },
        "id": "LWotRd2GuXr3",
        "outputId": "63e51216-f502-4935-96ed-046240eba4c7"
      },
      "outputs": [
        {
          "output_type": "stream",
          "name": "stdout",
          "text": [
            "Number of Nodes: 4063\n"
          ]
        }
      ],
      "source": [
        "n = nx.number_of_nodes(G)\n",
        "print(\"Number of Nodes:\", n)"
      ]
    },
    {
      "cell_type": "code",
      "execution_count": 6,
      "metadata": {
        "colab": {
          "base_uri": "https://localhost:8080/"
        },
        "id": "P8LxgCJguiV8",
        "outputId": "12d796d7-d976-4f4a-b490-e0ef85938b3d"
      },
      "outputs": [
        {
          "output_type": "stream",
          "name": "stdout",
          "text": [
            "Number of Edges: 3115\n"
          ]
        }
      ],
      "source": [
        "m = nx.number_of_edges(G)\n",
        "print(\"Number of Edges:\", m)"
      ]
    },
    {
      "cell_type": "code",
      "execution_count": null,
      "metadata": {
        "colab": {
          "base_uri": "https://localhost:8080/"
        },
        "id": "WCWEutzkuqUR",
        "outputId": "5eda1685-9dbc-4e40-e7be-4722efa82a34"
      },
      "outputs": [
        {
          "output_type": "stream",
          "name": "stdout",
          "text": [
            "Density: 0.00037748639625068153\n"
          ]
        }
      ],
      "source": [
        "density = nx.density(G)\n",
        "print(\"Density:\", density)"
      ]
    },
    {
      "cell_type": "code",
      "execution_count": null,
      "metadata": {
        "colab": {
          "base_uri": "https://localhost:8080/"
        },
        "id": "iGLtLLPs7Mj8",
        "outputId": "0c3580d5-0788-4f35-b19d-4c0a1a0919b5"
      },
      "outputs": [
        {
          "output_type": "stream",
          "name": "stdout",
          "text": [
            "Transitivity: 0.08067614291202459\n"
          ]
        }
      ],
      "source": [
        "transitivity = nx.transitivity(G)\n",
        "print(\"Transitivity:\", transitivity)"
      ]
    },
    {
      "cell_type": "code",
      "execution_count": null,
      "metadata": {
        "colab": {
          "base_uri": "https://localhost:8080/"
        },
        "id": "x3Lk24Jq7eJe",
        "outputId": "281c118e-06dd-4e28-e47d-29c8b126b268"
      },
      "outputs": [
        {
          "output_type": "stream",
          "name": "stdout",
          "text": [
            "Average Clustering Coefficient: 0.10756864052463501\n"
          ]
        }
      ],
      "source": [
        "lcc = G.subgraph(max(nx.connected_components(G), key=len))\n",
        "avg_clustering_coefficient = nx.average_clustering(lcc)\n",
        "print(\"Average Clustering Coefficient:\", avg_clustering_coefficient)"
      ]
    },
    {
      "cell_type": "code",
      "execution_count": null,
      "metadata": {
        "colab": {
          "base_uri": "https://localhost:8080/"
        },
        "id": "gpr9R52pI_gj",
        "outputId": "e45fe6ed-3137-4088-84c6-b38f9abc7396"
      },
      "outputs": [
        {
          "output_type": "stream",
          "name": "stdout",
          "text": [
            "Average Shortest Path Length: 6.9218\n"
          ]
        }
      ],
      "source": [
        "total = 0\n",
        "for i in range(10000):\n",
        "  a = choice(list(lcc.nodes()))\n",
        "  b = choice(list(lcc.nodes()))\n",
        "  dist = nx.shortest_path_length(lcc, source=a, target=b, method='dijkstra')\n",
        "  total += dist\n",
        "average_shortest_path_length = total / 10000\n",
        "print(\"Average Shortest Path Length:\", average_shortest_path_length)"
      ]
    },
    {
      "cell_type": "code",
      "execution_count": null,
      "metadata": {
        "colab": {
          "base_uri": "https://localhost:8080/"
        },
        "id": "y-OIz93bvCf6",
        "outputId": "170c4e4b-cad5-4d96-b8cb-8255367115da"
      },
      "outputs": [
        {
          "output_type": "stream",
          "name": "stdout",
          "text": [
            "Largest Connected Component Size: 1098\n"
          ]
        }
      ],
      "source": [
        "lcc = max(nx.connected_components(G), key=len)\n",
        "lcc_size = len(lcc)\n",
        "print(\"Largest Connected Component Size:\", lcc_size)"
      ]
    },
    {
      "cell_type": "markdown",
      "metadata": {
        "id": "vJBSOkAMlEvX"
      },
      "source": [
        "# Creating Baseline Model"
      ]
    },
    {
      "cell_type": "code",
      "execution_count": 7,
      "metadata": {
        "id": "Ol5YfMrmlFtp"
      },
      "outputs": [],
      "source": [
        "p = 2 * m / (n * (n - 1))\n",
        "baseline = nx.erdos_renyi_graph(n, p, seed=25, directed=False)"
      ]
    },
    {
      "cell_type": "code",
      "execution_count": 8,
      "metadata": {
        "colab": {
          "base_uri": "https://localhost:8080/"
        },
        "id": "PzxQgcUvrTIb",
        "outputId": "0cdd6e33-c085-46c0-ad66-bde1f00916bb"
      },
      "outputs": [
        {
          "output_type": "stream",
          "name": "stdout",
          "text": [
            "Baseline Model Density: 0.00038899882246057387\n"
          ]
        }
      ],
      "source": [
        "baseline_density = nx.density(baseline)\n",
        "print(\"Baseline Model Density:\", baseline_density)"
      ]
    },
    {
      "cell_type": "code",
      "execution_count": 9,
      "metadata": {
        "colab": {
          "base_uri": "https://localhost:8080/"
        },
        "id": "lEThbyQctTDr",
        "outputId": "e7d91c2c-72ca-4d4e-fdfa-74c64522eafa"
      },
      "outputs": [
        {
          "output_type": "stream",
          "name": "stdout",
          "text": [
            "Baseline Model Transitivity: 0.0005896226415094339\n"
          ]
        }
      ],
      "source": [
        "baseline_transitivity = nx.transitivity(baseline)\n",
        "print(\"Baseline Model Transitivity:\", baseline_transitivity)"
      ]
    },
    {
      "cell_type": "code",
      "execution_count": 10,
      "metadata": {
        "colab": {
          "base_uri": "https://localhost:8080/"
        },
        "id": "dyATFrmYTm6L",
        "outputId": "43986ace-59df-43ad-eafa-e13314fae7af"
      },
      "outputs": [
        {
          "output_type": "stream",
          "name": "stdout",
          "text": [
            "Baseline Model Average Clustering Coefficient: 0.0003216261417728033\n"
          ]
        }
      ],
      "source": [
        "lcc = baseline.subgraph(max(nx.connected_components(baseline), key=len))\n",
        "baseline_avg_clustering_coefficient = nx.average_clustering(lcc)\n",
        "print(\"Baseline Model Average Clustering Coefficient:\", baseline_avg_clustering_coefficient)"
      ]
    },
    {
      "cell_type": "code",
      "execution_count": 11,
      "metadata": {
        "colab": {
          "base_uri": "https://localhost:8080/"
        },
        "id": "BYemOlYpT0n4",
        "outputId": "a416a948-7ce4-47aa-9bf6-d7e4bf8025bb"
      },
      "outputs": [
        {
          "output_type": "stream",
          "name": "stdout",
          "text": [
            "Baseline Model Average Shortest Path Length: 15.451\n"
          ]
        }
      ],
      "source": [
        "total = 0\n",
        "for i in range(10000):\n",
        "  a = choice(list(lcc.nodes()))\n",
        "  b = choice(list(lcc.nodes()))\n",
        "  dist = nx.shortest_path_length(lcc, source=a, target=b, method='dijkstra')\n",
        "  total += dist\n",
        "baseline_average_shortest_path_length = total / 10000\n",
        "print(\"Baseline Model Average Shortest Path Length:\", baseline_average_shortest_path_length)"
      ]
    },
    {
      "cell_type": "code",
      "execution_count": 12,
      "metadata": {
        "id": "ers3NkiTUdQq",
        "colab": {
          "base_uri": "https://localhost:8080/"
        },
        "outputId": "f4917fc0-aa4b-45d6-aea4-b98b88ff1b8c"
      },
      "outputs": [
        {
          "output_type": "stream",
          "name": "stdout",
          "text": [
            "Baseline Model Largest Connected Component Size: 2591\n"
          ]
        }
      ],
      "source": [
        "lscc = max(nx.connected_components(baseline), key=len)\n",
        "baseline_lcc_size = len(lscc)\n",
        "print(\"Baseline Model Largest Connected Component Size:\", baseline_lcc_size)"
      ]
    }
  ],
  "metadata": {
    "colab": {
      "provenance": []
    },
    "kernelspec": {
      "display_name": "Python 3",
      "name": "python3"
    },
    "language_info": {
      "name": "python"
    }
  },
  "nbformat": 4,
  "nbformat_minor": 0
}