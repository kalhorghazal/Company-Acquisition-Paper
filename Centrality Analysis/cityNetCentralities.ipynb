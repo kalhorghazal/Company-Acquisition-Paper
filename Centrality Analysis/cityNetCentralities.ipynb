{
  "cells": [
    {
      "cell_type": "code",
      "execution_count": null,
      "metadata": {
        "id": "70L658ZroCcV"
      },
      "outputs": [],
      "source": [
        "!cp \"/content/drive/MyDrive/Startup Project/Acquisition Network/cityNet.graphml\" ."
      ]
    },
    {
      "cell_type": "markdown",
      "source": [
        "# Import Libraries"
      ],
      "metadata": {
        "id": "U-TyUyxBvB2f"
      }
    },
    {
      "cell_type": "code",
      "execution_count": null,
      "metadata": {
        "id": "6CouI-ThoWmL"
      },
      "outputs": [],
      "source": [
        "import pandas as pd\n",
        "import numpy as np\n",
        "import networkx as nx\n",
        "import plotly.express as px"
      ]
    },
    {
      "cell_type": "code",
      "execution_count": null,
      "metadata": {
        "id": "yTVJimhzog0E"
      },
      "outputs": [],
      "source": [
        "G = nx.read_graphml(\"cityNet.graphml\")"
      ]
    },
    {
      "cell_type": "markdown",
      "source": [
        "# Weighted Degree Centrality"
      ],
      "metadata": {
        "id": "v5BFS5-Kvooj"
      }
    },
    {
      "cell_type": "code",
      "execution_count": null,
      "metadata": {
        "colab": {
          "base_uri": "https://localhost:8080/"
        },
        "id": "-gzRBxDiPE6K",
        "outputId": "bd3034b7-e5d3-418c-904e-1d5a5a684e07"
      },
      "outputs": [
        {
          "output_type": "execute_result",
          "data": {
            "text/plain": [
              "[('New York', 2559),\n",
              " ('London', 1912),\n",
              " ('San Francisco', 1465),\n",
              " ('Chicago', 841),\n",
              " ('Toronto', 726),\n",
              " ('Boston', 616),\n",
              " ('Austin', 593),\n",
              " ('Los Angeles', 534),\n",
              " ('Atlanta', 512),\n",
              " ('Paris', 502),\n",
              " ('San Jose', 434),\n",
              " ('Houston', 424)]"
            ]
          },
          "metadata": {},
          "execution_count": 15
        }
      ],
      "source": [
        "mylist = list(G.degree(weight='weight'))\n",
        "\n",
        "mylist.sort(key=lambda x: x[1], reverse=True)\n",
        "mylist[0:12]"
      ]
    },
    {
      "cell_type": "markdown",
      "source": [
        "# Betweenness Centrality"
      ],
      "metadata": {
        "id": "PHJA97SDv273"
      }
    },
    {
      "cell_type": "code",
      "execution_count": null,
      "metadata": {
        "colab": {
          "base_uri": "https://localhost:8080/"
        },
        "id": "Qzlh8dgaQDLy",
        "outputId": "ed2c0018-476f-4839-8e86-33444bc66372"
      },
      "outputs": [
        {
          "output_type": "execute_result",
          "data": {
            "text/plain": [
              "[('New York', 0.024506145837717395),\n",
              " ('London', 0.020752501522848583),\n",
              " ('San Francisco', 0.01855707789885354),\n",
              " ('Boston', 0.01543169060509773),\n",
              " ('Austin', 0.014651578786758913),\n",
              " ('Chicago', 0.014549121869727195),\n",
              " ('Toronto', 0.013451173591259736),\n",
              " ('Seattle', 0.011052895030417334),\n",
              " ('Paris', 0.010851805569891968),\n",
              " ('Atlanta', 0.010653114993629217),\n",
              " ('Houston', 0.010103915597946815),\n",
              " ('Dallas', 0.009796343486301774),\n",
              " ('Los Angeles', 0.009621721392362842),\n",
              " ('Dublin', 0.009586073194335012),\n",
              " ('Denver', 0.008078054275058467)]"
            ]
          },
          "metadata": {},
          "execution_count": 20
        }
      ],
      "source": [
        "betweenness = nx.betweenness_centrality(G)\n",
        "sorted(betweenness.items(), key=lambda item: item[1], reverse=True)[0:15]"
      ]
    },
    {
      "cell_type": "markdown",
      "source": [
        "# PageRank"
      ],
      "metadata": {
        "id": "jkHco_rYwWnp"
      }
    },
    {
      "cell_type": "code",
      "execution_count": null,
      "metadata": {
        "colab": {
          "base_uri": "https://localhost:8080/"
        },
        "id": "wh63UsgaP8pz",
        "outputId": "4d2dd5d7-8e05-4120-bc6d-c0e4592e06ee"
      },
      "outputs": [
        {
          "output_type": "execute_result",
          "data": {
            "text/plain": [
              "[('New York', 0.09524829271391397),\n",
              " ('London', 0.09258235831875888),\n",
              " ('San Francisco', 0.07144548875982819),\n",
              " ('Toronto', 0.03382268399606291),\n",
              " ('Chicago', 0.03359584195372803),\n",
              " ('Austin', 0.030496915669965832),\n",
              " ('Los Angeles', 0.028158262008668288),\n",
              " ('Boston', 0.026659687663450386),\n",
              " ('Paris', 0.025535470255755477),\n",
              " ('Houston', 0.025229705038934326),\n",
              " ('Atlanta', 0.0248010611678414),\n",
              " ('San Diego', 0.023442074758825003)]"
            ]
          },
          "metadata": {},
          "execution_count": 16
        }
      ],
      "source": [
        "pagerank = nx.pagerank(G, weight=\"weight\")\n",
        "sorted(pagerank.items(), key=lambda item: item[1], reverse=True)[0:12]"
      ]
    },
    {
      "cell_type": "markdown",
      "source": [
        "# Eigenvector Centrality"
      ],
      "metadata": {
        "id": "_uQb2ljbwhVM"
      }
    },
    {
      "cell_type": "code",
      "execution_count": null,
      "metadata": {
        "colab": {
          "base_uri": "https://localhost:8080/"
        },
        "id": "DkHZQFsbQTHT",
        "outputId": "a02a961b-95f2-4bf8-fb9d-fd6a5ea72086"
      },
      "outputs": [
        {
          "output_type": "execute_result",
          "data": {
            "text/plain": [
              "[('London', 0.4975419633351636),\n",
              " ('New York', 0.48035611863779676),\n",
              " ('San Francisco', 0.4044055270161295),\n",
              " ('Chicago', 0.2046558710386402),\n",
              " ('Los Angeles', 0.18280577749724944),\n",
              " ('Toronto', 0.18280134233123854),\n",
              " ('Boston', 0.1681444695553442),\n",
              " ('Paris', 0.1533919606627428),\n",
              " ('Austin', 0.1384648626050894),\n",
              " ('Seattle', 0.10952554484588484),\n",
              " ('San Diego', 0.10850369165339407),\n",
              " ('Berlin', 0.10797756487319013),\n",
              " ('Atlanta', 0.10759154020723825),\n",
              " ('Houston', 0.10270778171149976),\n",
              " ('Dublin', 0.10167237920556668)]"
            ]
          },
          "metadata": {},
          "execution_count": 21
        }
      ],
      "source": [
        "eigenvector = nx.eigenvector_centrality(G, weight=\"weight\")\n",
        "sorted(eigenvector.items(), key=lambda item: item[1], reverse=True)[0:15]"
      ]
    },
    {
      "cell_type": "markdown",
      "source": [
        "# Closeness Centrality"
      ],
      "metadata": {
        "id": "9a-cGRwswZ1h"
      }
    },
    {
      "cell_type": "code",
      "execution_count": null,
      "metadata": {
        "colab": {
          "base_uri": "https://localhost:8080/"
        },
        "id": "5DjEshOQQLxy",
        "outputId": "1e3a6f67-75b1-4dde-ed22-6c2459309483"
      },
      "outputs": [
        {
          "output_type": "execute_result",
          "data": {
            "text/plain": [
              "[('London', 1.0),\n",
              " ('New York', 1.0),\n",
              " ('San Francisco', 1.0),\n",
              " ('Chicago', 0.9245283018867925),\n",
              " ('Austin', 0.9074074074074074),\n",
              " ('Houston', 0.8909090909090909),\n",
              " ('Boston', 0.8909090909090909),\n",
              " ('Seattle', 0.875),\n",
              " ('Toronto', 0.875),\n",
              " ('Atlanta', 0.8596491228070176),\n",
              " ('San Diego', 0.8448275862068966),\n",
              " ('Portland', 0.8305084745762712),\n",
              " ('Los Angeles', 0.8305084745762712),\n",
              " ('Paris', 0.8166666666666667)]"
            ]
          },
          "metadata": {},
          "execution_count": 18
        }
      ],
      "source": [
        "closeness = nx.closeness_centrality(G)\n",
        "sorted(closeness.items(), key=lambda item: item[1], reverse=True)[0:14]"
      ]
    }
  ],
  "metadata": {
    "colab": {
      "provenance": []
    },
    "kernelspec": {
      "display_name": "Python 3",
      "name": "python3"
    },
    "language_info": {
      "name": "python"
    }
  },
  "nbformat": 4,
  "nbformat_minor": 0
}