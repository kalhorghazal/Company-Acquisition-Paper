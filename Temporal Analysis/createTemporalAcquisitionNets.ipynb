{
  "nbformat": 4,
  "nbformat_minor": 0,
  "metadata": {
    "colab": {
      "provenance": []
    },
    "kernelspec": {
      "name": "python3",
      "display_name": "Python 3"
    },
    "language_info": {
      "name": "python"
    }
  },
  "cells": [
    {
      "cell_type": "code",
      "source": [
        "import networkx as nx"
      ],
      "metadata": {
        "id": "a0iNCA563_gJ"
      },
      "execution_count": null,
      "outputs": []
    },
    {
      "cell_type": "code",
      "source": [
        "intervals = [200301, 200701, 201101, 201501, 201901, 202301]"
      ],
      "metadata": {
        "id": "MFobB7ci4GNK"
      },
      "execution_count": null,
      "outputs": []
    },
    {
      "cell_type": "code",
      "source": [
        "G = nx.read_graphml(\"acquisitionNet.graphml\")"
      ],
      "metadata": {
        "id": "GjI_l-215Qv_"
      },
      "execution_count": null,
      "outputs": []
    },
    {
      "cell_type": "code",
      "source": [
        "i = 1\n",
        "\n",
        "for slot in intervals:\n",
        "  selected_edges = [(u,v) for u,v,e in G.edges(data=True) if e['acquired_year_month'] <= slot]\n",
        "  H = G.edge_subgraph(selected_edges)\n",
        "  H = H.copy()\n",
        "  name = \"subNet\" + str(i) + \".graphml\"\n",
        "  nx.write_graphml(H, name)\n",
        "  i = i + 1"
      ],
      "metadata": {
        "id": "yYYWLWKF5OOy"
      },
      "execution_count": null,
      "outputs": []
    }
  ]
}