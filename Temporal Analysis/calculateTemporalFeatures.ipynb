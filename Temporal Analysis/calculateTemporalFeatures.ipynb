{
  "cells": [
    {
      "cell_type": "markdown",
      "source": [
        "# Importing Libraries"
      ],
      "metadata": {
        "id": "XqdlQLXj-Tjf"
      }
    },
    {
      "cell_type": "code",
      "execution_count": null,
      "metadata": {
        "id": "ZMHcYt5pXF4q"
      },
      "outputs": [],
      "source": [
        "import random\n",
        "import numpy as np\n",
        "import pandas as pd\n",
        "import networkx as nx\n",
        "import statistics as st\n",
        "from random import choice\n",
        "from numpy.polynomial.polynomial import polyfit"
      ]
    },
    {
      "cell_type": "markdown",
      "source": [
        "# Defining Time Intervals"
      ],
      "metadata": {
        "id": "H5lIj05bDj7u"
      }
    },
    {
      "cell_type": "code",
      "execution_count": null,
      "metadata": {
        "id": "CXpUyUP921-l"
      },
      "outputs": [],
      "source": [
        "years = list(range(2000, 2023 + 1))\n",
        "years = [x * 100 for x in years]"
      ]
    },
    {
      "cell_type": "code",
      "execution_count": null,
      "metadata": {
        "id": "kywipfpw_-DV"
      },
      "outputs": [],
      "source": [
        "intervals = []\n",
        "\n",
        "for year in years:\n",
        "  for month in range(1, 12 + 1):\n",
        "    if year == 202300 and month == 8:\n",
        "      break\n",
        "    inter = year + month\n",
        "    intervals.append(inter)"
      ]
    },
    {
      "cell_type": "code",
      "execution_count": null,
      "metadata": {
        "colab": {
          "base_uri": "https://localhost:8080/"
        },
        "id": "S9m0MNUfAqP_",
        "outputId": "59b7172a-4f54-4070-b815-77853b674341"
      },
      "outputs": [
        {
          "output_type": "execute_result",
          "data": {
            "text/plain": [
              "283"
            ]
          },
          "metadata": {},
          "execution_count": 20
        }
      ],
      "source": [
        "len(intervals)"
      ]
    },
    {
      "cell_type": "code",
      "execution_count": null,
      "metadata": {
        "colab": {
          "background_save": true
        },
        "id": "eLuPS2MZxwv6"
      },
      "outputs": [],
      "source": [
        "strIntervals = []\n",
        "\n",
        "for interval in intervals:\n",
        "  strInterval = str(interval)[0:4] + \"-\" + str(interval)[4:6]\n",
        "  strIntervals.append(strInterval)"
      ]
    },
    {
      "cell_type": "code",
      "execution_count": null,
      "metadata": {
        "colab": {
          "background_save": true
        },
        "id": "l_GfebhIXKg1"
      },
      "outputs": [],
      "source": [
        "G = nx.read_graphml(\"acquisitionNet.graphml\")"
      ]
    },
    {
      "cell_type": "markdown",
      "source": [
        "# Calculating Temporal Features"
      ],
      "metadata": {
        "id": "W6mO6MPGDx2q"
      }
    },
    {
      "cell_type": "code",
      "execution_count": null,
      "metadata": {
        "id": "IObmRYnHVYWt"
      },
      "outputs": [],
      "source": [
        "densities = []\n",
        "\n",
        "for slot in intervals:\n",
        "  selected_edges = [(u,v) for u,v,e in G.edges(data=True) if e['acquired_year_month'] <= slot]\n",
        "  H = G.edge_subgraph(selected_edges)\n",
        "  densities.append(nx.density(H))"
      ]
    },
    {
      "cell_type": "code",
      "execution_count": null,
      "metadata": {
        "id": "fgaUpeUEfl6V"
      },
      "outputs": [],
      "source": [
        "average_clusterings = []\n",
        "\n",
        "for slot in intervals:\n",
        "  selected_edges = [(u,v) for u,v,e in G.edges(data=True) if e['acquired_year_month'] <= slot]\n",
        "  H = G.edge_subgraph(selected_edges)\n",
        "  H = H.to_undirected()\n",
        "  max_lcc = max(nx.connected_components(H), key=len)\n",
        "  max_wcc = H.subgraph(max_lcc)\n",
        "  clustering_coefficient = nx.average_clustering(max_wcc)\n",
        "  average_clusterings.append(clustering_coefficient)"
      ]
    },
    {
      "cell_type": "code",
      "execution_count": null,
      "metadata": {
        "id": "pPihMUgidTR9"
      },
      "outputs": [],
      "source": [
        "def avg_short_path(N):\n",
        "  H = N.to_undirected()\n",
        "  max_lcc = max(nx.connected_components(H), key=len)\n",
        "  max_wcc = H.subgraph(max_lcc)\n",
        "  total = 0\n",
        "  for i in range(1000):\n",
        "    a = choice(list(max_wcc.nodes()))\n",
        "    b = choice(list(max_wcc.nodes()))\n",
        "    dist = nx.shortest_path_length(max_wcc, source=a, target=b, method='dijkstra')\n",
        "    total += dist\n",
        "  average_shortest_path_length = total / 1000\n",
        "  return average_shortest_path_length"
      ]
    },
    {
      "cell_type": "code",
      "execution_count": null,
      "metadata": {
        "colab": {
          "background_save": true
        },
        "id": "TtXahomTRMlx"
      },
      "outputs": [],
      "source": [
        "path_lengths = []\n",
        "\n",
        "for slot in intervals:\n",
        "  selected_edges = [(u,v) for u,v,e in G.edges(data=True) if e['acquired_year_month'] <= slot]\n",
        "  H = G.edge_subgraph(selected_edges)\n",
        "  shotest = avg_short_path(H)\n",
        "  path_lengths.append(shotest)"
      ]
    },
    {
      "cell_type": "code",
      "execution_count": null,
      "metadata": {
        "colab": {
          "background_save": true
        },
        "id": "KLTEppKkRZrE"
      },
      "outputs": [],
      "source": [
        "component_counts = []\n",
        "\n",
        "for slot in intervals:\n",
        "  selected_edges = [(u,v) for u,v,e in G.edges(data=True) if e['acquired_year_month'] <= slot]\n",
        "  H = G.edge_subgraph(selected_edges)\n",
        "  component_count = list(nx.weakly_connected_components(H))\n",
        "  component_counts.append(len(component_count))"
      ]
    },
    {
      "cell_type": "code",
      "execution_count": null,
      "metadata": {
        "id": "W4NHBgEfxOyE"
      },
      "outputs": [],
      "source": [
        "temporalData = pd.DataFrame(\n",
        "    {'Interval': strIntervals,\n",
        "     'Density': densities,\n",
        "     'Average Clustering Coefficient': clustering_coefficient,\n",
        "     'Average Shortest Path Length': path_lengths,\n",
        "     'WCC Count': component_counts\n",
        "    })"
      ]
    },
    {
      "cell_type": "code",
      "source": [
        "temporalData.head()"
      ],
      "metadata": {
        "colab": {
          "base_uri": "https://localhost:8080/",
          "height": 206
        },
        "id": "zTpPqv_vEDKO",
        "outputId": "20255e6a-d1b0-4668-c32f-988e654bbbf7"
      },
      "execution_count": null,
      "outputs": [
        {
          "output_type": "execute_result",
          "data": {
            "text/plain": [
              "  Interval   Density  Average Clustering Coefficient  \\\n",
              "0  2000-01  0.000342                             0.0   \n",
              "1  2000-02  0.000330                             0.0   \n",
              "2  2000-03  0.000311                             0.0   \n",
              "3  2000-04  0.000302                             0.0   \n",
              "4  2000-05  0.000294                             0.0   \n",
              "\n",
              "   Average Shortest Path Length  WCC Count  \n",
              "0                         1.859        678  \n",
              "1                         1.861        704  \n",
              "2                         1.853        746  \n",
              "3                         1.897        771  \n",
              "4                         1.893        788  "
            ],
            "text/html": [
              "\n",
              "  <div id=\"df-16142b2e-c6af-493a-a855-298425a0c716\" class=\"colab-df-container\">\n",
              "    <div>\n",
              "<style scoped>\n",
              "    .dataframe tbody tr th:only-of-type {\n",
              "        vertical-align: middle;\n",
              "    }\n",
              "\n",
              "    .dataframe tbody tr th {\n",
              "        vertical-align: top;\n",
              "    }\n",
              "\n",
              "    .dataframe thead th {\n",
              "        text-align: right;\n",
              "    }\n",
              "</style>\n",
              "<table border=\"1\" class=\"dataframe\">\n",
              "  <thead>\n",
              "    <tr style=\"text-align: right;\">\n",
              "      <th></th>\n",
              "      <th>Interval</th>\n",
              "      <th>Density</th>\n",
              "      <th>Average Clustering Coefficient</th>\n",
              "      <th>Average Shortest Path Length</th>\n",
              "      <th>WCC Count</th>\n",
              "    </tr>\n",
              "  </thead>\n",
              "  <tbody>\n",
              "    <tr>\n",
              "      <th>0</th>\n",
              "      <td>2000-01</td>\n",
              "      <td>0.000342</td>\n",
              "      <td>0.0</td>\n",
              "      <td>1.859</td>\n",
              "      <td>678</td>\n",
              "    </tr>\n",
              "    <tr>\n",
              "      <th>1</th>\n",
              "      <td>2000-02</td>\n",
              "      <td>0.000330</td>\n",
              "      <td>0.0</td>\n",
              "      <td>1.861</td>\n",
              "      <td>704</td>\n",
              "    </tr>\n",
              "    <tr>\n",
              "      <th>2</th>\n",
              "      <td>2000-03</td>\n",
              "      <td>0.000311</td>\n",
              "      <td>0.0</td>\n",
              "      <td>1.853</td>\n",
              "      <td>746</td>\n",
              "    </tr>\n",
              "    <tr>\n",
              "      <th>3</th>\n",
              "      <td>2000-04</td>\n",
              "      <td>0.000302</td>\n",
              "      <td>0.0</td>\n",
              "      <td>1.897</td>\n",
              "      <td>771</td>\n",
              "    </tr>\n",
              "    <tr>\n",
              "      <th>4</th>\n",
              "      <td>2000-05</td>\n",
              "      <td>0.000294</td>\n",
              "      <td>0.0</td>\n",
              "      <td>1.893</td>\n",
              "      <td>788</td>\n",
              "    </tr>\n",
              "  </tbody>\n",
              "</table>\n",
              "</div>\n",
              "    <div class=\"colab-df-buttons\">\n",
              "\n",
              "  <div class=\"colab-df-container\">\n",
              "    <button class=\"colab-df-convert\" onclick=\"convertToInteractive('df-16142b2e-c6af-493a-a855-298425a0c716')\"\n",
              "            title=\"Convert this dataframe to an interactive table.\"\n",
              "            style=\"display:none;\">\n",
              "\n",
              "  <svg xmlns=\"http://www.w3.org/2000/svg\" height=\"24px\" viewBox=\"0 -960 960 960\">\n",
              "    <path d=\"M120-120v-720h720v720H120Zm60-500h600v-160H180v160Zm220 220h160v-160H400v160Zm0 220h160v-160H400v160ZM180-400h160v-160H180v160Zm440 0h160v-160H620v160ZM180-180h160v-160H180v160Zm440 0h160v-160H620v160Z\"/>\n",
              "  </svg>\n",
              "    </button>\n",
              "\n",
              "  <style>\n",
              "    .colab-df-container {\n",
              "      display:flex;\n",
              "      gap: 12px;\n",
              "    }\n",
              "\n",
              "    .colab-df-convert {\n",
              "      background-color: #E8F0FE;\n",
              "      border: none;\n",
              "      border-radius: 50%;\n",
              "      cursor: pointer;\n",
              "      display: none;\n",
              "      fill: #1967D2;\n",
              "      height: 32px;\n",
              "      padding: 0 0 0 0;\n",
              "      width: 32px;\n",
              "    }\n",
              "\n",
              "    .colab-df-convert:hover {\n",
              "      background-color: #E2EBFA;\n",
              "      box-shadow: 0px 1px 2px rgba(60, 64, 67, 0.3), 0px 1px 3px 1px rgba(60, 64, 67, 0.15);\n",
              "      fill: #174EA6;\n",
              "    }\n",
              "\n",
              "    .colab-df-buttons div {\n",
              "      margin-bottom: 4px;\n",
              "    }\n",
              "\n",
              "    [theme=dark] .colab-df-convert {\n",
              "      background-color: #3B4455;\n",
              "      fill: #D2E3FC;\n",
              "    }\n",
              "\n",
              "    [theme=dark] .colab-df-convert:hover {\n",
              "      background-color: #434B5C;\n",
              "      box-shadow: 0px 1px 3px 1px rgba(0, 0, 0, 0.15);\n",
              "      filter: drop-shadow(0px 1px 2px rgba(0, 0, 0, 0.3));\n",
              "      fill: #FFFFFF;\n",
              "    }\n",
              "  </style>\n",
              "\n",
              "    <script>\n",
              "      const buttonEl =\n",
              "        document.querySelector('#df-16142b2e-c6af-493a-a855-298425a0c716 button.colab-df-convert');\n",
              "      buttonEl.style.display =\n",
              "        google.colab.kernel.accessAllowed ? 'block' : 'none';\n",
              "\n",
              "      async function convertToInteractive(key) {\n",
              "        const element = document.querySelector('#df-16142b2e-c6af-493a-a855-298425a0c716');\n",
              "        const dataTable =\n",
              "          await google.colab.kernel.invokeFunction('convertToInteractive',\n",
              "                                                    [key], {});\n",
              "        if (!dataTable) return;\n",
              "\n",
              "        const docLinkHtml = 'Like what you see? Visit the ' +\n",
              "          '<a target=\"_blank\" href=https://colab.research.google.com/notebooks/data_table.ipynb>data table notebook</a>'\n",
              "          + ' to learn more about interactive tables.';\n",
              "        element.innerHTML = '';\n",
              "        dataTable['output_type'] = 'display_data';\n",
              "        await google.colab.output.renderOutput(dataTable, element);\n",
              "        const docLink = document.createElement('div');\n",
              "        docLink.innerHTML = docLinkHtml;\n",
              "        element.appendChild(docLink);\n",
              "      }\n",
              "    </script>\n",
              "  </div>\n",
              "\n",
              "\n",
              "<div id=\"df-658c27cb-3d66-4ced-a283-aab92a02ba9c\">\n",
              "  <button class=\"colab-df-quickchart\" onclick=\"quickchart('df-658c27cb-3d66-4ced-a283-aab92a02ba9c')\"\n",
              "            title=\"Suggest charts\"\n",
              "            style=\"display:none;\">\n",
              "\n",
              "<svg xmlns=\"http://www.w3.org/2000/svg\" height=\"24px\"viewBox=\"0 0 24 24\"\n",
              "     width=\"24px\">\n",
              "    <g>\n",
              "        <path d=\"M19 3H5c-1.1 0-2 .9-2 2v14c0 1.1.9 2 2 2h14c1.1 0 2-.9 2-2V5c0-1.1-.9-2-2-2zM9 17H7v-7h2v7zm4 0h-2V7h2v10zm4 0h-2v-4h2v4z\"/>\n",
              "    </g>\n",
              "</svg>\n",
              "  </button>\n",
              "\n",
              "<style>\n",
              "  .colab-df-quickchart {\n",
              "      --bg-color: #E8F0FE;\n",
              "      --fill-color: #1967D2;\n",
              "      --hover-bg-color: #E2EBFA;\n",
              "      --hover-fill-color: #174EA6;\n",
              "      --disabled-fill-color: #AAA;\n",
              "      --disabled-bg-color: #DDD;\n",
              "  }\n",
              "\n",
              "  [theme=dark] .colab-df-quickchart {\n",
              "      --bg-color: #3B4455;\n",
              "      --fill-color: #D2E3FC;\n",
              "      --hover-bg-color: #434B5C;\n",
              "      --hover-fill-color: #FFFFFF;\n",
              "      --disabled-bg-color: #3B4455;\n",
              "      --disabled-fill-color: #666;\n",
              "  }\n",
              "\n",
              "  .colab-df-quickchart {\n",
              "    background-color: var(--bg-color);\n",
              "    border: none;\n",
              "    border-radius: 50%;\n",
              "    cursor: pointer;\n",
              "    display: none;\n",
              "    fill: var(--fill-color);\n",
              "    height: 32px;\n",
              "    padding: 0;\n",
              "    width: 32px;\n",
              "  }\n",
              "\n",
              "  .colab-df-quickchart:hover {\n",
              "    background-color: var(--hover-bg-color);\n",
              "    box-shadow: 0 1px 2px rgba(60, 64, 67, 0.3), 0 1px 3px 1px rgba(60, 64, 67, 0.15);\n",
              "    fill: var(--button-hover-fill-color);\n",
              "  }\n",
              "\n",
              "  .colab-df-quickchart-complete:disabled,\n",
              "  .colab-df-quickchart-complete:disabled:hover {\n",
              "    background-color: var(--disabled-bg-color);\n",
              "    fill: var(--disabled-fill-color);\n",
              "    box-shadow: none;\n",
              "  }\n",
              "\n",
              "  .colab-df-spinner {\n",
              "    border: 2px solid var(--fill-color);\n",
              "    border-color: transparent;\n",
              "    border-bottom-color: var(--fill-color);\n",
              "    animation:\n",
              "      spin 1s steps(1) infinite;\n",
              "  }\n",
              "\n",
              "  @keyframes spin {\n",
              "    0% {\n",
              "      border-color: transparent;\n",
              "      border-bottom-color: var(--fill-color);\n",
              "      border-left-color: var(--fill-color);\n",
              "    }\n",
              "    20% {\n",
              "      border-color: transparent;\n",
              "      border-left-color: var(--fill-color);\n",
              "      border-top-color: var(--fill-color);\n",
              "    }\n",
              "    30% {\n",
              "      border-color: transparent;\n",
              "      border-left-color: var(--fill-color);\n",
              "      border-top-color: var(--fill-color);\n",
              "      border-right-color: var(--fill-color);\n",
              "    }\n",
              "    40% {\n",
              "      border-color: transparent;\n",
              "      border-right-color: var(--fill-color);\n",
              "      border-top-color: var(--fill-color);\n",
              "    }\n",
              "    60% {\n",
              "      border-color: transparent;\n",
              "      border-right-color: var(--fill-color);\n",
              "    }\n",
              "    80% {\n",
              "      border-color: transparent;\n",
              "      border-right-color: var(--fill-color);\n",
              "      border-bottom-color: var(--fill-color);\n",
              "    }\n",
              "    90% {\n",
              "      border-color: transparent;\n",
              "      border-bottom-color: var(--fill-color);\n",
              "    }\n",
              "  }\n",
              "</style>\n",
              "\n",
              "  <script>\n",
              "    async function quickchart(key) {\n",
              "      const quickchartButtonEl =\n",
              "        document.querySelector('#' + key + ' button');\n",
              "      quickchartButtonEl.disabled = true;  // To prevent multiple clicks.\n",
              "      quickchartButtonEl.classList.add('colab-df-spinner');\n",
              "      try {\n",
              "        const charts = await google.colab.kernel.invokeFunction(\n",
              "            'suggestCharts', [key], {});\n",
              "      } catch (error) {\n",
              "        console.error('Error during call to suggestCharts:', error);\n",
              "      }\n",
              "      quickchartButtonEl.classList.remove('colab-df-spinner');\n",
              "      quickchartButtonEl.classList.add('colab-df-quickchart-complete');\n",
              "    }\n",
              "    (() => {\n",
              "      let quickchartButtonEl =\n",
              "        document.querySelector('#df-658c27cb-3d66-4ced-a283-aab92a02ba9c button');\n",
              "      quickchartButtonEl.style.display =\n",
              "        google.colab.kernel.accessAllowed ? 'block' : 'none';\n",
              "    })();\n",
              "  </script>\n",
              "</div>\n",
              "    </div>\n",
              "  </div>\n"
            ],
            "application/vnd.google.colaboratory.intrinsic+json": {
              "type": "dataframe",
              "variable_name": "temporalData",
              "summary": "{\n  \"name\": \"temporalData\",\n  \"rows\": 283,\n  \"fields\": [\n    {\n      \"column\": \"Interval\",\n      \"properties\": {\n        \"dtype\": \"object\",\n        \"num_unique_values\": 283,\n        \"samples\": [\n          \"2000-10\",\n          \"2020-07\",\n          \"2011-08\"\n        ],\n        \"semantic_type\": \"\",\n        \"description\": \"\"\n      }\n    },\n    {\n      \"column\": \"Density\",\n      \"properties\": {\n        \"dtype\": \"number\",\n        \"std\": 7.092280947620148e-05,\n        \"min\": 6.52e-06,\n        \"max\": 0.0003423903098,\n        \"num_unique_values\": 282,\n        \"samples\": [\n          5.58e-05,\n          5.5e-05,\n          2.04e-05\n        ],\n        \"semantic_type\": \"\",\n        \"description\": \"\"\n      }\n    },\n    {\n      \"column\": \"Average Clustering Coefficient\",\n      \"properties\": {\n        \"dtype\": \"number\",\n        \"std\": 0.0014021409954797295,\n        \"min\": 0.0,\n        \"max\": 0.006994588406,\n        \"num_unique_values\": 128,\n        \"samples\": [\n          0.001674521895,\n          0.001046596181,\n          0.000995316843\n        ],\n        \"semantic_type\": \"\",\n        \"description\": \"\"\n      }\n    },\n    {\n      \"column\": \"Average Shortest Path Length\",\n      \"properties\": {\n        \"dtype\": \"number\",\n        \"std\": 6.238880779193428,\n        \"min\": 1.853,\n        \"max\": 19.971,\n        \"num_unique_values\": 250,\n        \"samples\": [\n          11.971,\n          1.889,\n          4.892\n        ],\n        \"semantic_type\": \"\",\n        \"description\": \"\"\n      }\n    },\n    {\n      \"column\": \"WCC Count\",\n      \"properties\": {\n        \"dtype\": \"number\",\n        \"std\": 7705,\n        \"min\": 678,\n        \"max\": 26833,\n        \"num_unique_values\": 283,\n        \"samples\": [\n          919,\n          20164,\n          5837\n        ],\n        \"semantic_type\": \"\",\n        \"description\": \"\"\n      }\n    }\n  ]\n}"
            }
          },
          "metadata": {},
          "execution_count": 26
        }
      ]
    },
    {
      "cell_type": "code",
      "execution_count": null,
      "metadata": {
        "id": "9DtL3Ha7yDev"
      },
      "outputs": [],
      "source": [
        "temporalData.to_csv(\"temporalData.csv\", index=False)"
      ]
    }
  ],
  "metadata": {
    "colab": {
      "provenance": []
    },
    "kernelspec": {
      "display_name": "Python 3",
      "name": "python3"
    },
    "language_info": {
      "name": "python"
    }
  },
  "nbformat": 4,
  "nbformat_minor": 0
}