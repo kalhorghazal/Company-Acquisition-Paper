{
  "nbformat": 4,
  "nbformat_minor": 0,
  "metadata": {
    "colab": {
      "provenance": []
    },
    "kernelspec": {
      "name": "python3",
      "display_name": "Python 3"
    },
    "language_info": {
      "name": "python"
    }
  },
  "cells": [
    {
      "cell_type": "code",
      "source": [
        "!cp \"/content/drive/MyDrive/Startup Project/Acquisition Network/commonAcquirer.graphml\" ."
      ],
      "metadata": {
        "id": "tyZ7QQknq0Qk"
      },
      "execution_count": null,
      "outputs": []
    },
    {
      "cell_type": "markdown",
      "source": [
        "# Import Libraries"
      ],
      "metadata": {
        "id": "4ITg9GitiPA4"
      }
    },
    {
      "cell_type": "code",
      "execution_count": null,
      "metadata": {
        "id": "u-SoOQqnqicV"
      },
      "outputs": [],
      "source": [
        "import pandas as pd\n",
        "import numpy as np\n",
        "import networkx as nx"
      ]
    },
    {
      "cell_type": "code",
      "source": [
        "G = nx.read_graphml(\"commonAcquirer.graphml\")"
      ],
      "metadata": {
        "id": "hnNE5cBYq9Nx"
      },
      "execution_count": null,
      "outputs": []
    },
    {
      "cell_type": "markdown",
      "source": [
        "# Calculate Assortativity Coefficients"
      ],
      "metadata": {
        "id": "HNxi7zGqiYAh"
      }
    },
    {
      "cell_type": "code",
      "source": [
        "category_assortativity = nx.attribute_assortativity_coefficient(G,'primary_category')\n",
        "print(\"Category:\", category_assortativity)"
      ],
      "metadata": {
        "colab": {
          "base_uri": "https://localhost:8080/"
        },
        "id": "KiytgCE2Yknc",
        "outputId": "1680460f-6963-4028-cbb0-654254199d59"
      },
      "execution_count": null,
      "outputs": [
        {
          "output_type": "stream",
          "name": "stdout",
          "text": [
            "Category: 0.16224343148215017\n"
          ]
        }
      ]
    },
    {
      "cell_type": "code",
      "source": [
        "category_group_assortativity = nx.attribute_assortativity_coefficient(G,'primary_category_group')\n",
        "print(\"Category Group:\", category_group_assortativity)"
      ],
      "metadata": {
        "colab": {
          "base_uri": "https://localhost:8080/"
        },
        "id": "Jil3sSmeYwRc",
        "outputId": "ea881f7f-0a54-4f39-c2bb-77076b7060dc"
      },
      "execution_count": null,
      "outputs": [
        {
          "output_type": "stream",
          "name": "stdout",
          "text": [
            "Category Group: 0.23566305032597978\n"
          ]
        }
      ]
    },
    {
      "cell_type": "code",
      "source": [
        "country_assortativity = nx.attribute_assortativity_coefficient(G,'country_code')\n",
        "print(\"Country:\", country_assortativity)"
      ],
      "metadata": {
        "colab": {
          "base_uri": "https://localhost:8080/"
        },
        "id": "ceClAW39rJnv",
        "outputId": "c381df46-9449-40fb-e36e-d16ea2fb50b6"
      },
      "execution_count": null,
      "outputs": [
        {
          "output_type": "stream",
          "name": "stdout",
          "text": [
            "Country: 0.21603579912929563\n"
          ]
        }
      ]
    },
    {
      "cell_type": "code",
      "source": [
        "city_assortativity = nx.attribute_assortativity_coefficient(G,'city')\n",
        "print(\"City:\", city_assortativity)"
      ],
      "metadata": {
        "colab": {
          "base_uri": "https://localhost:8080/"
        },
        "id": "S12e-HN_sJDB",
        "outputId": "7352379e-b4a9-4e69-bd15-c31f9a414072"
      },
      "execution_count": null,
      "outputs": [
        {
          "output_type": "stream",
          "name": "stdout",
          "text": [
            "City: 0.013200813843028639\n"
          ]
        }
      ]
    },
    {
      "cell_type": "code",
      "source": [
        "region_assortativity = nx.attribute_assortativity_coefficient(G,'region')\n",
        "print(\"Region:\", region_assortativity)"
      ],
      "metadata": {
        "colab": {
          "base_uri": "https://localhost:8080/"
        },
        "id": "4sJhUcKOs4dz",
        "outputId": "b0aca1c1-bf1c-4ada-82e4-bbebcb395cf0"
      },
      "execution_count": null,
      "outputs": [
        {
          "output_type": "stream",
          "name": "stdout",
          "text": [
            "Region: 0.042189505858805196\n"
          ]
        }
      ]
    },
    {
      "cell_type": "code",
      "source": [
        "founded_year_month_assortativity = nx.numeric_assortativity_coefficient(H,'founded_year_month')\n",
        "print(\"founded_year_month:\", founded_year_month_assortativity)"
      ],
      "metadata": {
        "colab": {
          "base_uri": "https://localhost:8080/"
        },
        "id": "pyrpWOX6OYS9",
        "outputId": "3e28224f-5328-4bb7-d4a1-d58a1a180139"
      },
      "execution_count": null,
      "outputs": [
        {
          "output_type": "stream",
          "name": "stdout",
          "text": [
            "founded_year_month: 0.22758116585419305\n"
          ]
        }
      ]
    },
    {
      "cell_type": "code",
      "source": [
        "degree_assortativity = nx.degree_assortativity_coefficient(G)\n",
        "print(\"Node Degree:\", degree_assortativity)"
      ],
      "metadata": {
        "id": "F85Th4wonPxY",
        "outputId": "25b17027-f597-49ca-8f79-57a0b6aa59fd",
        "colab": {
          "base_uri": "https://localhost:8080/"
        }
      },
      "execution_count": null,
      "outputs": [
        {
          "output_type": "stream",
          "name": "stdout",
          "text": [
            "Node Degree: 0.9862909323345769\n"
          ]
        }
      ]
    }
  ]
}