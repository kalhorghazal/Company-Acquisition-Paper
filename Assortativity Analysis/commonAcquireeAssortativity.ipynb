{
  "nbformat": 4,
  "nbformat_minor": 0,
  "metadata": {
    "colab": {
      "provenance": []
    },
    "kernelspec": {
      "name": "python3",
      "display_name": "Python 3"
    },
    "language_info": {
      "name": "python"
    }
  },
  "cells": [
    {
      "cell_type": "code",
      "source": [
        "!cp \"/content/drive/MyDrive/Startup Project/Acquisition Network/commonAcquiree.graphml\" ."
      ],
      "metadata": {
        "id": "tyZ7QQknq0Qk"
      },
      "execution_count": null,
      "outputs": []
    },
    {
      "cell_type": "markdown",
      "source": [
        "# Import Libraries"
      ],
      "metadata": {
        "id": "4ITg9GitiPA4"
      }
    },
    {
      "cell_type": "code",
      "execution_count": null,
      "metadata": {
        "id": "u-SoOQqnqicV"
      },
      "outputs": [],
      "source": [
        "import pandas as pd\n",
        "import numpy as np\n",
        "import networkx as nx"
      ]
    },
    {
      "cell_type": "code",
      "source": [
        "G = nx.read_graphml(\"commonAcquiree.graphml\")"
      ],
      "metadata": {
        "id": "hnNE5cBYq9Nx"
      },
      "execution_count": null,
      "outputs": []
    },
    {
      "cell_type": "markdown",
      "source": [
        "# Calculate Assortativity Coefficients"
      ],
      "metadata": {
        "id": "HNxi7zGqiYAh"
      }
    },
    {
      "cell_type": "code",
      "source": [
        "category_assortativity = nx.attribute_assortativity_coefficient(G,'primary_category')\n",
        "print(\"Category:\", category_assortativity)"
      ],
      "metadata": {
        "colab": {
          "base_uri": "https://localhost:8080/"
        },
        "id": "KiytgCE2Yknc",
        "outputId": "cbb854ef-3feb-4518-bf95-b10bd6b20a88"
      },
      "execution_count": null,
      "outputs": [
        {
          "output_type": "stream",
          "name": "stdout",
          "text": [
            "Category: 0.08211198078318632\n"
          ]
        }
      ]
    },
    {
      "cell_type": "code",
      "source": [
        "category_group_assortativity = nx.attribute_assortativity_coefficient(G,'primary_category_group')\n",
        "print(\"Category Group:\", category_group_assortativity)"
      ],
      "metadata": {
        "colab": {
          "base_uri": "https://localhost:8080/"
        },
        "id": "Jil3sSmeYwRc",
        "outputId": "43eee9b9-fd77-4495-b02b-2676f4118135"
      },
      "execution_count": null,
      "outputs": [
        {
          "output_type": "stream",
          "name": "stdout",
          "text": [
            "Category Group: 0.15710696036438315\n"
          ]
        }
      ]
    },
    {
      "cell_type": "code",
      "source": [
        "country_assortativity = nx.attribute_assortativity_coefficient(G,'country_code')\n",
        "print(\"Country:\", country_assortativity)"
      ],
      "metadata": {
        "colab": {
          "base_uri": "https://localhost:8080/"
        },
        "id": "ceClAW39rJnv",
        "outputId": "b82bdf2f-778e-44e2-e685-0403be30d4d9"
      },
      "execution_count": null,
      "outputs": [
        {
          "output_type": "stream",
          "name": "stdout",
          "text": [
            "Country: 0.2860315091938386\n"
          ]
        }
      ]
    },
    {
      "cell_type": "code",
      "source": [
        "city_assortativity = nx.attribute_assortativity_coefficient(G,'city')\n",
        "print(\"City:\", city_assortativity)"
      ],
      "metadata": {
        "colab": {
          "base_uri": "https://localhost:8080/"
        },
        "id": "S12e-HN_sJDB",
        "outputId": "06a2e302-b1ff-4830-d0c4-50ec9ab2d04d"
      },
      "execution_count": null,
      "outputs": [
        {
          "output_type": "stream",
          "name": "stdout",
          "text": [
            "City: 0.05416971124900986\n"
          ]
        }
      ]
    },
    {
      "cell_type": "code",
      "source": [
        "region_assortativity = nx.attribute_assortativity_coefficient(G,'region')\n",
        "print(\"Region:\", region_assortativity)"
      ],
      "metadata": {
        "colab": {
          "base_uri": "https://localhost:8080/"
        },
        "id": "4sJhUcKOs4dz",
        "outputId": "c48eacd0-2059-425e-9302-81811046da24"
      },
      "execution_count": null,
      "outputs": [
        {
          "output_type": "stream",
          "name": "stdout",
          "text": [
            "Region: 0.08286703468673515\n"
          ]
        }
      ]
    },
    {
      "cell_type": "code",
      "source": [
        "founded_year_month_assortativity = nx.numeric_assortativity_coefficient(H,'founded_year_month')\n",
        "print(\"founded_year_month:\", founded_year_month_assortativity)"
      ],
      "metadata": {
        "colab": {
          "base_uri": "https://localhost:8080/"
        },
        "id": "pyrpWOX6OYS9",
        "outputId": "41de9c29-17aa-4e50-a85c-10ec5541a6fa"
      },
      "execution_count": null,
      "outputs": [
        {
          "output_type": "stream",
          "name": "stdout",
          "text": [
            "founded_year_month: 0.09682119814100976\n"
          ]
        }
      ]
    },
    {
      "cell_type": "code",
      "source": [
        "degree_assortativity = nx.degree_assortativity_coefficient(G)\n",
        "print(\"Node Degree:\", degree_assortativity)"
      ],
      "metadata": {
        "id": "F85Th4wonPxY",
        "outputId": "d65c8c62-4293-4a5e-bc3c-de3d407720d4",
        "colab": {
          "base_uri": "https://localhost:8080/"
        }
      },
      "execution_count": null,
      "outputs": [
        {
          "output_type": "stream",
          "name": "stdout",
          "text": [
            "Node Degree: 0.08845676613651582\n"
          ]
        }
      ]
    }
  ]
}