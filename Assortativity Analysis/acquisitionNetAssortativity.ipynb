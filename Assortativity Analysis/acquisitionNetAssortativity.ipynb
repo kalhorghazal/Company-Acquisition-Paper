{
  "nbformat": 4,
  "nbformat_minor": 0,
  "metadata": {
    "colab": {
      "provenance": []
    },
    "kernelspec": {
      "name": "python3",
      "display_name": "Python 3"
    },
    "language_info": {
      "name": "python"
    }
  },
  "cells": [
    {
      "cell_type": "code",
      "source": [
        "!cp \"/content/drive/MyDrive/Startup Project/Acquisition Network/acquisitionNet.graphml\" ."
      ],
      "metadata": {
        "id": "tyZ7QQknq0Qk"
      },
      "execution_count": null,
      "outputs": []
    },
    {
      "cell_type": "markdown",
      "source": [
        "# Import Libraries"
      ],
      "metadata": {
        "id": "4ITg9GitiPA4"
      }
    },
    {
      "cell_type": "code",
      "execution_count": null,
      "metadata": {
        "id": "u-SoOQqnqicV"
      },
      "outputs": [],
      "source": [
        "import pandas as pd\n",
        "import numpy as np\n",
        "import networkx as nx"
      ]
    },
    {
      "cell_type": "code",
      "source": [
        "G = nx.read_graphml(\"acquisitionNet.graphml\")"
      ],
      "metadata": {
        "id": "hnNE5cBYq9Nx"
      },
      "execution_count": null,
      "outputs": []
    },
    {
      "cell_type": "markdown",
      "source": [
        "# Calculate Assortativity Coefficients"
      ],
      "metadata": {
        "id": "HNxi7zGqiYAh"
      }
    },
    {
      "cell_type": "code",
      "source": [
        "category_assortativity = nx.attribute_assortativity_coefficient(G,'primary_category')\n",
        "print(\"Category:\", category_assortativity)"
      ],
      "metadata": {
        "colab": {
          "base_uri": "https://localhost:8080/"
        },
        "id": "KiytgCE2Yknc",
        "outputId": "f58283dd-0c2c-4616-cb27-9f18b03f9ff6"
      },
      "execution_count": null,
      "outputs": [
        {
          "output_type": "stream",
          "name": "stdout",
          "text": [
            "Category: 0.17671078310730373\n"
          ]
        }
      ]
    },
    {
      "cell_type": "code",
      "source": [
        "category_group_assortativity = nx.attribute_assortativity_coefficient(G,'primary_category_group')\n",
        "print(\"Category Group:\", category_group_assortativity)"
      ],
      "metadata": {
        "colab": {
          "base_uri": "https://localhost:8080/"
        },
        "id": "Jil3sSmeYwRc",
        "outputId": "dce983cf-9fe9-4122-ae89-b5cd6036a365"
      },
      "execution_count": null,
      "outputs": [
        {
          "output_type": "stream",
          "name": "stdout",
          "text": [
            "Category Group: 0.2916686708264893\n"
          ]
        }
      ]
    },
    {
      "cell_type": "code",
      "source": [
        "country_assortativity = nx.attribute_assortativity_coefficient(G,'country_code')\n",
        "print(\"Country:\", country_assortativity)"
      ],
      "metadata": {
        "colab": {
          "base_uri": "https://localhost:8080/"
        },
        "id": "ceClAW39rJnv",
        "outputId": "68f347b3-e073-4a62-fa55-f2f2f34a088b"
      },
      "execution_count": null,
      "outputs": [
        {
          "output_type": "stream",
          "name": "stdout",
          "text": [
            "Country: 0.47253494885273023\n"
          ]
        }
      ]
    },
    {
      "cell_type": "code",
      "source": [
        "city_assortativity = nx.attribute_assortativity_coefficient(G,'city')\n",
        "print(\"City:\", city_assortativity)"
      ],
      "metadata": {
        "colab": {
          "base_uri": "https://localhost:8080/"
        },
        "id": "S12e-HN_sJDB",
        "outputId": "9d5f1ba7-18d0-40bd-d96b-223a77991932"
      },
      "execution_count": null,
      "outputs": [
        {
          "output_type": "stream",
          "name": "stdout",
          "text": [
            "City: 0.0884943551676532\n"
          ]
        }
      ]
    },
    {
      "cell_type": "code",
      "source": [
        "region_assortativity = nx.attribute_assortativity_coefficient(G,'region')\n",
        "print(\"Region:\", region_assortativity)"
      ],
      "metadata": {
        "colab": {
          "base_uri": "https://localhost:8080/"
        },
        "id": "4sJhUcKOs4dz",
        "outputId": "86f70745-3e71-481d-b799-259e2c22d014"
      },
      "execution_count": null,
      "outputs": [
        {
          "output_type": "stream",
          "name": "stdout",
          "text": [
            "Region: 0.1666829081211744\n"
          ]
        }
      ]
    },
    {
      "cell_type": "code",
      "source": [
        "founded_year_month_assortativity = nx.numeric_assortativity_coefficient(H,'founded_year_month')\n",
        "print(\"founded_year_month:\", founded_year_month_assortativity)"
      ],
      "metadata": {
        "colab": {
          "base_uri": "https://localhost:8080/"
        },
        "id": "pyrpWOX6OYS9",
        "outputId": "4d32721c-9b54-4c22-b5fb-ec22602f6df0"
      },
      "execution_count": null,
      "outputs": [
        {
          "output_type": "stream",
          "name": "stdout",
          "text": [
            "founded_year_month: 0.24805522244645697\n"
          ]
        }
      ]
    },
    {
      "cell_type": "code",
      "source": [
        "degree_assortativity = nx.degree_assortativity_coefficient(G)\n",
        "print(\"Node Degree:\", degree_assortativity)"
      ],
      "metadata": {
        "id": "F85Th4wonPxY",
        "outputId": "60f7e456-da00-4c12-d1d0-716e138decd9",
        "colab": {
          "base_uri": "https://localhost:8080/"
        }
      },
      "execution_count": null,
      "outputs": [
        {
          "output_type": "stream",
          "name": "stdout",
          "text": [
            "Node Degree: 0.018555063690900354\n"
          ]
        }
      ]
    }
  ]
}